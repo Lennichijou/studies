{
  "nbformat": 4,
  "nbformat_minor": 0,
  "metadata": {
    "colab": {
      "provenance": [],
      "collapsed_sections": [
        "DEEC_hXHkpK6"
      ]
    },
    "kernelspec": {
      "name": "python3",
      "display_name": "Python 3"
    },
    "language_info": {
      "name": "python"
    }
  },
  "cells": [
    {
      "cell_type": "markdown",
      "source": [
        "#Лабораторная работа №1\n",
        "Создание нейронной сети, выполняющей бинарную классификацию"
      ],
      "metadata": {
        "id": "lDJJ0cNmdgKQ"
      }
    },
    {
      "cell_type": "markdown",
      "source": [
        "##Теоретическая часть"
      ],
      "metadata": {
        "id": "B1J44fRHke8n"
      }
    },
    {
      "cell_type": "code",
      "metadata": {
        "id": "iVkHruei2FcH"
      },
      "source": [
        "import copy\n",
        "import numpy as np\n",
        "import random"
      ],
      "execution_count": 1,
      "outputs": []
    },
    {
      "cell_type": "markdown",
      "source": [
        "Создадим цифры, из которых будет состоять наш датасет"
      ],
      "metadata": {
        "id": "Yx33PUKk2q9V"
      }
    },
    {
      "cell_type": "code",
      "metadata": {
        "id": "rECXGi7a2_xM"
      },
      "source": [
        "numbers = list()\n",
        "numbers.append(([0, 0],0))\n",
        "numbers.append(([0, 1],1))\n",
        "numbers.append(([1, 0],1))\n",
        "numbers.append(([1, 1],1))"
      ],
      "execution_count": 2,
      "outputs": []
    },
    {
      "cell_type": "markdown",
      "source": [
        "Сформируем датасет"
      ],
      "metadata": {
        "id": "WoZSLjzN2yW1"
      }
    },
    {
      "cell_type": "code",
      "metadata": {
        "id": "t949jYvz4Cpm"
      },
      "source": [
        "dataset = list()\n",
        "for i in range(10000):\n",
        "  dataset.append(random.choice(numbers))"
      ],
      "execution_count": 3,
      "outputs": []
    },
    {
      "cell_type": "markdown",
      "source": [
        "Выведем случайную цифру из датасета"
      ],
      "metadata": {
        "id": "yLBAzI7W21Zs"
      }
    },
    {
      "cell_type": "code",
      "metadata": {
        "colab": {
          "base_uri": "https://localhost:8080/"
        },
        "id": "AeFgrSq5HvcY",
        "outputId": "3ddbf5bf-6c0d-45f8-cfb0-59992bf4d69b"
      },
      "source": [
        "random.choice(dataset)"
      ],
      "execution_count": 4,
      "outputs": [
        {
          "output_type": "execute_result",
          "data": {
            "text/plain": [
              "([0, 0], 0)"
            ]
          },
          "metadata": {},
          "execution_count": 4
        }
      ]
    },
    {
      "cell_type": "markdown",
      "source": [
        "Заполним единицами вектор весов связей между нейронами"
      ],
      "metadata": {
        "id": "erAQL5so-PxT"
      }
    },
    {
      "cell_type": "code",
      "metadata": {
        "id": "Be_a0YUG5Mrd"
      },
      "source": [
        "first_layer_weights = np.ones((2, 1))"
      ],
      "execution_count": 5,
      "outputs": []
    },
    {
      "cell_type": "markdown",
      "source": [
        "Создадим функцию активации, возвращающую единицу, если сумма полученных сигналов выше определенного порога"
      ],
      "metadata": {
        "id": "2h2_y0TG-8A6"
      }
    },
    {
      "cell_type": "code",
      "metadata": {
        "id": "Hb_ll0Co8Wb0"
      },
      "source": [
        "def result_bin_class(result):\n",
        "  if (result > 1):\n",
        "    return True\n",
        "  else:\n",
        "    return False"
      ],
      "execution_count": 6,
      "outputs": []
    },
    {
      "cell_type": "markdown",
      "source": [
        "Создадим функцию подсчета суммарного веса полученных сигналов"
      ],
      "metadata": {
        "id": "emFMM0VB_J5J"
      }
    },
    {
      "cell_type": "code",
      "metadata": {
        "id": "uJLlX4819I7L"
      },
      "source": [
        "def calculate_res(input_number, first_layer_weights):\n",
        "  sum = 0\n",
        "  for i in range(1):\n",
        "    sum += input_number[0][i%2] * first_layer_weights[i]\n",
        "  return sum"
      ],
      "execution_count": 7,
      "outputs": []
    },
    {
      "cell_type": "markdown",
      "source": [
        "Зададим функцию, формирующую сигнал корректировки весов в зависимости от соотношения ответа нейронной сети и правильного ответа"
      ],
      "metadata": {
        "id": "zFFA136E_c15"
      }
    },
    {
      "cell_type": "code",
      "metadata": {
        "id": "bM85bDsSCzT0"
      },
      "source": [
        "def weight_changing(positive, target):\n",
        "  k = 0\n",
        "  if (positive and not target):\n",
        "    k = -0.1\n",
        "  elif (not positive and target):\n",
        "    k = 0.1\n",
        "  return k"
      ],
      "execution_count": 8,
      "outputs": []
    },
    {
      "cell_type": "markdown",
      "source": [
        "Пропишем функции для обучения нейронной сети"
      ],
      "metadata": {
        "id": "QB7m1NRjBWJL"
      }
    },
    {
      "cell_type": "code",
      "metadata": {
        "id": "zNjlROBy_mor"
      },
      "source": [
        "def learn(input_number, first_layer_weights, target):\n",
        "  k = weight_changing(result_bin_class(calculate_res(input_number, first_layer_weights)), True if input_number[1] == target else False)\n",
        "  for i in range(1):\n",
        "    first_layer_weights[i] += input_number[0][i%2] * k\n",
        "  return first_layer_weights"
      ],
      "execution_count": 9,
      "outputs": []
    },
    {
      "cell_type": "code",
      "metadata": {
        "id": "fZSG5hNbByt7"
      },
      "source": [
        "def train_nn(input_dataset, first_layer_weights, target, size_of_data):\n",
        "  for i in range(size_of_data):\n",
        "    first_layer_weights = learn(random.choice(input_dataset), first_layer_weights, target)"
      ],
      "execution_count": 10,
      "outputs": []
    },
    {
      "cell_type": "code",
      "metadata": {
        "id": "A0HIXgGDHesh"
      },
      "source": [
        "train_nn(dataset, first_layer_weights, 1, 800)"
      ],
      "execution_count": 11,
      "outputs": []
    },
    {
      "cell_type": "code",
      "metadata": {
        "colab": {
          "base_uri": "https://localhost:8080/"
        },
        "id": "VcvMbeIcIJa4",
        "outputId": "72847a4e-592f-4ff8-a6a4-bc333316ac51"
      },
      "source": [
        "first_layer_weights"
      ],
      "execution_count": 13,
      "outputs": [
        {
          "output_type": "execute_result",
          "data": {
            "text/plain": [
              "array([[1.1],\n",
              "       [1. ]])"
            ]
          },
          "metadata": {},
          "execution_count": 13
        }
      ]
    },
    {
      "cell_type": "markdown",
      "source": [
        "Создадим функции для тестирования обученной нейронной сети"
      ],
      "metadata": {
        "id": "iBBUgXQABgj_"
      }
    },
    {
      "cell_type": "code",
      "metadata": {
        "id": "0xqLV9VwJaOB"
      },
      "source": [
        "def test(input_number, first_layer_weights, target):\n",
        "  if (result_bin_class(calculate_res(input_number, first_layer_weights)) == (True if input_number[1] == target else False)):\n",
        "    return 1\n",
        "  else:\n",
        "    return 0"
      ],
      "execution_count": 14,
      "outputs": []
    },
    {
      "cell_type": "code",
      "metadata": {
        "id": "6cX1PXpMIV_H"
      },
      "source": [
        "def test_nn(input_dataset, first_layer_weights, target, size_of_data):\n",
        "  res = 0\n",
        "  for i in range(size_of_data):\n",
        "    res += test(random.choice(input_dataset), first_layer_weights, target)\n",
        "  return (res / size_of_data)"
      ],
      "execution_count": 15,
      "outputs": []
    },
    {
      "cell_type": "code",
      "metadata": {
        "colab": {
          "base_uri": "https://localhost:8080/"
        },
        "id": "fasbJx9yKP0v",
        "outputId": "74d4238a-6165-4bf3-b41c-92245bf7bc66"
      },
      "source": [
        "print('Accuracy-score: ', test_nn(dataset, first_layer_weights, 1, 200))"
      ],
      "execution_count": 16,
      "outputs": [
        {
          "output_type": "stream",
          "name": "stdout",
          "text": [
            "Accuracy-score:  0.75\n"
          ]
        }
      ]
    },
    {
      "cell_type": "code",
      "metadata": {
        "id": "TFFQVBf6LJUI"
      },
      "source": [
        "first_layer_weights = np.ones((2, 1))\n",
        "train_nn(dataset, first_layer_weights, 5, 8000)"
      ],
      "execution_count": 17,
      "outputs": []
    },
    {
      "cell_type": "code",
      "metadata": {
        "colab": {
          "base_uri": "https://localhost:8080/"
        },
        "id": "4f1G1rHqLJM5",
        "outputId": "fbb995c6-9552-48e3-a1aa-ee780f82ee42"
      },
      "source": [
        "first_layer_weights"
      ],
      "execution_count": 18,
      "outputs": [
        {
          "output_type": "execute_result",
          "data": {
            "text/plain": [
              "array([[1.],\n",
              "       [1.]])"
            ]
          },
          "metadata": {},
          "execution_count": 18
        }
      ]
    },
    {
      "cell_type": "code",
      "metadata": {
        "colab": {
          "base_uri": "https://localhost:8080/"
        },
        "id": "-1PtDE-pLJEx",
        "outputId": "50e09c3d-5dbc-44a1-da6f-0911b26b1aa0"
      },
      "source": [
        "print('Accuracy-score: ', test_nn(dataset, first_layer_weights, 5, 2000))"
      ],
      "execution_count": 19,
      "outputs": [
        {
          "output_type": "stream",
          "name": "stdout",
          "text": [
            "Accuracy-score:  1.0\n"
          ]
        }
      ]
    },
    {
      "cell_type": "markdown",
      "source": [
        "Попробуем создать зашумленный датасет и проверить как нейронная сеть справится с его обработкой"
      ],
      "metadata": {
        "id": "IR-_TixsCzMX"
      }
    },
    {
      "cell_type": "code",
      "metadata": {
        "id": "HLRp8txBNlTT"
      },
      "source": [
        "noise_dataset = list()\n",
        "for i in range(10000):\n",
        "  noise_dataset.append(random.choice(numbers))\n",
        "  for j in range(1):\n",
        "    noise_dataset[i][0][j%2] += (random.randint(-2, 2) * 0.1)"
      ],
      "execution_count": 20,
      "outputs": []
    },
    {
      "cell_type": "code",
      "metadata": {
        "colab": {
          "base_uri": "https://localhost:8080/"
        },
        "id": "DycUth0zP0sy",
        "outputId": "9a3a64c2-157c-4824-973a-d982fa5cb925"
      },
      "source": [
        "random.choice(noise_dataset)"
      ],
      "execution_count": 21,
      "outputs": [
        {
          "output_type": "execute_result",
          "data": {
            "text/plain": [
              "([-8.799999999999994, 0], 0)"
            ]
          },
          "metadata": {},
          "execution_count": 21
        }
      ]
    },
    {
      "cell_type": "code",
      "metadata": {
        "id": "uai_q-4pQ55L"
      },
      "source": [
        "import copy\n",
        "import random\n",
        "noise_dataset = list()\n",
        "for i in range(10000):\n",
        "  noise_dataset.append(copy.deepcopy(random.choice(dataset)))\n",
        "  for j in range(2):\n",
        "    noise_dataset[i][0][j] += (random.randint(-45, 45) * 0.01)"
      ],
      "execution_count": 22,
      "outputs": []
    },
    {
      "cell_type": "code",
      "metadata": {
        "colab": {
          "base_uri": "https://localhost:8080/"
        },
        "id": "mWfsL8xFREUp",
        "outputId": "5ce2bc01-f732-47c8-eb32-3e4ab535c9f9"
      },
      "source": [
        "random.choice(noise_dataset)"
      ],
      "execution_count": 23,
      "outputs": [
        {
          "output_type": "execute_result",
          "data": {
            "text/plain": [
              "([2.5199999999999974, -0.35000000000000003], 1)"
            ]
          },
          "metadata": {},
          "execution_count": 23
        }
      ]
    },
    {
      "cell_type": "code",
      "metadata": {
        "id": "YKDxJKnKRJxx"
      },
      "source": [
        "first_layer_weights = np.ones((2, 1))\n",
        "train_nn(noise_dataset, first_layer_weights, 4, 8000)"
      ],
      "execution_count": 24,
      "outputs": []
    },
    {
      "cell_type": "code",
      "metadata": {
        "id": "EMOjGU8WZRwA"
      },
      "source": [
        "train_nn(noise_dataset, first_layer_weights, 4, 8000)"
      ],
      "execution_count": 25,
      "outputs": []
    },
    {
      "cell_type": "code",
      "metadata": {
        "colab": {
          "base_uri": "https://localhost:8080/"
        },
        "id": "7y9yy7BARVYo",
        "outputId": "89d2d6ea-ff74-4d98-d11d-e366c368208c"
      },
      "source": [
        "first_layer_weights"
      ],
      "execution_count": 26,
      "outputs": [
        {
          "output_type": "execute_result",
          "data": {
            "text/plain": [
              "array([[0.157],\n",
              "       [1.   ]])"
            ]
          },
          "metadata": {},
          "execution_count": 26
        }
      ]
    },
    {
      "cell_type": "code",
      "metadata": {
        "colab": {
          "base_uri": "https://localhost:8080/"
        },
        "id": "onJn9Ma3RgFN",
        "outputId": "9d8cbddf-f60d-446a-f177-69a9e738ae55"
      },
      "source": [
        "print('Accuracy-score: ', test_nn(noise_dataset, first_layer_weights, 4, 2000))"
      ],
      "execution_count": 27,
      "outputs": [
        {
          "output_type": "stream",
          "name": "stdout",
          "text": [
            "Accuracy-score:  1.0\n"
          ]
        }
      ]
    },
    {
      "cell_type": "markdown",
      "source": [
        "Попробуем создать датасет с отсутствующей нормализацией некоторых значений"
      ],
      "metadata": {
        "id": "Toe3SSe8DAX0"
      }
    },
    {
      "cell_type": "code",
      "metadata": {
        "id": "_VJa42WQYGqN"
      },
      "source": [
        "dataset_without_normalize = list()\n",
        "for i in range(10000):\n",
        "  dataset_without_normalize.append(copy.deepcopy(random.choice(numbers)))\n",
        "  for j in range(2):\n",
        "    dataset_without_normalize[i][0][j%2] += (random.randint(-45, 45) * 0.01)"
      ],
      "execution_count": 28,
      "outputs": []
    },
    {
      "cell_type": "code",
      "metadata": {
        "colab": {
          "base_uri": "https://localhost:8080/"
        },
        "id": "2uTd6cgCYlOP",
        "outputId": "ae3468dd-ac9c-4683-d035-26f2189a135f"
      },
      "source": [
        "print(random.choice(dataset_without_normalize))"
      ],
      "execution_count": 29,
      "outputs": [
        {
          "output_type": "stream",
          "name": "stdout",
          "text": [
            "([3.649999999999986, 0.77], 1)\n"
          ]
        }
      ]
    },
    {
      "cell_type": "code",
      "metadata": {
        "id": "k9ROHXnqY06B"
      },
      "source": [
        "first_layer_weights = np.ones((8, 1))\n",
        "train_nn(dataset_without_normalize, first_layer_weights, 9, 8000)"
      ],
      "execution_count": 30,
      "outputs": []
    },
    {
      "cell_type": "code",
      "metadata": {
        "id": "pvcg3jrjZHcQ"
      },
      "source": [
        "train_nn(dataset_without_normalize, first_layer_weights, 9, 8000)"
      ],
      "execution_count": 31,
      "outputs": []
    },
    {
      "cell_type": "code",
      "metadata": {
        "colab": {
          "base_uri": "https://localhost:8080/"
        },
        "id": "loDcRAcFY0vy",
        "outputId": "13e45bc3-f819-4792-fa46-a3647e90db71"
      },
      "source": [
        "print('Accuracy-score: ', test_nn(dataset_without_normalize, first_layer_weights, 9, 2000))"
      ],
      "execution_count": 32,
      "outputs": [
        {
          "output_type": "stream",
          "name": "stdout",
          "text": [
            "Accuracy-score:  1.0\n"
          ]
        }
      ]
    },
    {
      "cell_type": "markdown",
      "source": [
        "Для сравнения проведем такой же эксперимент для датасета с нормализацией"
      ],
      "metadata": {
        "id": "YQrVjhvyDLes"
      }
    },
    {
      "cell_type": "code",
      "metadata": {
        "id": "gi9rUBDbaNBl"
      },
      "source": [
        "dataset_with_normalize = list()\n",
        "for i in range(10000):\n",
        "  dataset_with_normalize.append(copy.deepcopy(dataset_without_normalize[i]))\n",
        "  #for j in [1, 5, 9]:\n",
        "    #if dataset_with_normalize[i][0][j%2] != 0:\n",
        "      #dataset_with_normalize[i][0][j%2] /= 255"
      ],
      "execution_count": 33,
      "outputs": []
    },
    {
      "cell_type": "code",
      "metadata": {
        "colab": {
          "base_uri": "https://localhost:8080/"
        },
        "id": "TBVjW_BMbVvG",
        "outputId": "de3f0038-8a24-428d-c952-edda6b1da982"
      },
      "source": [
        "print(random.choice(dataset_with_normalize))"
      ],
      "execution_count": 34,
      "outputs": [
        {
          "output_type": "stream",
          "name": "stdout",
          "text": [
            "([2.8299999999999974, 0.34], 1)\n"
          ]
        }
      ]
    },
    {
      "cell_type": "code",
      "metadata": {
        "id": "ys01SfbyYGfU"
      },
      "source": [
        "first_layer_weights = np.ones((15, 1))\n",
        "train_nn(dataset_with_normalize, first_layer_weights, 9, 8000)"
      ],
      "execution_count": 35,
      "outputs": []
    },
    {
      "cell_type": "code",
      "metadata": {
        "id": "fC963DZWbeUc"
      },
      "source": [
        "train_nn(dataset_with_normalize, first_layer_weights, 9, 8000)"
      ],
      "execution_count": 36,
      "outputs": []
    },
    {
      "cell_type": "code",
      "metadata": {
        "colab": {
          "base_uri": "https://localhost:8080/"
        },
        "id": "JygrwBc3bamg",
        "outputId": "fd7822fc-5314-4b03-ea8a-8b5f2a459838"
      },
      "source": [
        "print('Accuracy-score: ', test_nn(dataset_with_normalize, first_layer_weights, 9, 2000))"
      ],
      "execution_count": 37,
      "outputs": [
        {
          "output_type": "stream",
          "name": "stdout",
          "text": [
            "Accuracy-score:  1.0\n"
          ]
        }
      ]
    },
    {
      "cell_type": "markdown",
      "source": [
        "##Практическая часть"
      ],
      "metadata": {
        "id": "DEEC_hXHkpK6"
      }
    },
    {
      "cell_type": "code",
      "source": [
        "random.choice(noise_dataset)"
      ],
      "metadata": {
        "colab": {
          "base_uri": "https://localhost:8080/"
        },
        "id": "jQHItQKLgATl",
        "outputId": "70ea0bc3-377e-4d43-c7ef-397f89d99b2c"
      },
      "execution_count": null,
      "outputs": [
        {
          "output_type": "execute_result",
          "data": {
            "text/plain": [
              "([13.460000000000042, 34.000000000000064], 1)"
            ]
          },
          "metadata": {},
          "execution_count": 52
        }
      ]
    },
    {
      "cell_type": "markdown",
      "source": [
        "**Задание (базовый уровень):**\n",
        "Создать модель (без использования готовых решений) простейшего перцептрона, которая будет выполнять функцию логического \"ИЛИ\".\n",
        "\n",
        "**Задание (повышенный уровень):**\n",
        "Создать модель (без использования готовых решений) перцептрона, которая будет выполнять функцию исключающего \"ИЛИ\".\n",
        "\n",
        "*Общее требование:*  Обучение и тестирование должно проходить на зашумленных данных (уровень шума +- 0.45)."
      ],
      "metadata": {
        "id": "3OfU4DiyegEw"
      }
    }
  ]
}