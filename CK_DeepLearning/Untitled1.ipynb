{
  "nbformat": 4,
  "nbformat_minor": 0,
  "metadata": {
    "colab": {
      "provenance": []
    },
    "kernelspec": {
      "name": "python3",
      "display_name": "Python 3"
    },
    "language_info": {
      "name": "python"
    }
  },
  "cells": [
    {
      "cell_type": "markdown",
      "source": [
        "# **Лабораторная работа №3.**"
      ],
      "metadata": {
        "id": "6f7OoUDomHlA"
      }
    },
    {
      "cell_type": "markdown",
      "source": [
        "Загрузка пакетов и датасета для работы:"
      ],
      "metadata": {
        "id": "rdKwBrvsmO4n"
      }
    },
    {
      "cell_type": "code",
      "execution_count": null,
      "metadata": {
        "id": "Tui57zAjiCJQ"
      },
      "outputs": [],
      "source": [
        "%%capture\n",
        "!wget https://www.dropbox.com/s/bbm6rxqb4bsfl2d/training_data.xlsx\n",
        "!wget https://www.dropbox.com/s/gjhur7eyzcv265y/test_data.xlsx"
      ]
    },
    {
      "cell_type": "code",
      "source": [
        "import pandas as pd\n",
        "training_data = pd.read_excel('training_data.xlsx', usecols=lambda x: 'Unnamed' not in x)\n",
        "test_data = pd.read_excel('test_data.xlsx', usecols=lambda x: 'Unnamed' not in x)\n",
        "training_data.head()"
      ],
      "metadata": {
        "colab": {
          "base_uri": "https://localhost:8080/",
          "height": 206
        },
        "id": "vMhGJjw8iGXV",
        "outputId": "f198e003-0681-4ae8-a896-5215a6d60458"
      },
      "execution_count": null,
      "outputs": [
        {
          "output_type": "execute_result",
          "data": {
            "text/plain": [
              "   price  year  condition  cylinders  odometer title_status transmission  \\\n",
              "0  43900  2016          4          6     43500        clean    automatic   \n",
              "1  15490  2009          2          8     98131        clean    automatic   \n",
              "2   2495  2002          2          8    201803        clean    automatic   \n",
              "3   1300  2000          1          8    170305      rebuilt    automatic   \n",
              "4  13865  2010          3          8    166062        clean    automatic   \n",
              "\n",
              "  drive       size        lat        long  weather  \n",
              "0   4wd  full-size  36.471500  -82.483400     59.0  \n",
              "1   4wd  full-size  40.468826  -74.281734     52.0  \n",
              "2   4wd  full-size  42.477134  -82.949564     45.0  \n",
              "3   4wd  full-size  40.764373  -82.349503     49.0  \n",
              "4   4wd        NaN  49.210949 -123.114720      NaN  "
            ],
            "text/html": [
              "\n",
              "  <div id=\"df-5cb950f7-a34b-449d-9806-1ff050c633a3\" class=\"colab-df-container\">\n",
              "    <div>\n",
              "<style scoped>\n",
              "    .dataframe tbody tr th:only-of-type {\n",
              "        vertical-align: middle;\n",
              "    }\n",
              "\n",
              "    .dataframe tbody tr th {\n",
              "        vertical-align: top;\n",
              "    }\n",
              "\n",
              "    .dataframe thead th {\n",
              "        text-align: right;\n",
              "    }\n",
              "</style>\n",
              "<table border=\"1\" class=\"dataframe\">\n",
              "  <thead>\n",
              "    <tr style=\"text-align: right;\">\n",
              "      <th></th>\n",
              "      <th>price</th>\n",
              "      <th>year</th>\n",
              "      <th>condition</th>\n",
              "      <th>cylinders</th>\n",
              "      <th>odometer</th>\n",
              "      <th>title_status</th>\n",
              "      <th>transmission</th>\n",
              "      <th>drive</th>\n",
              "      <th>size</th>\n",
              "      <th>lat</th>\n",
              "      <th>long</th>\n",
              "      <th>weather</th>\n",
              "    </tr>\n",
              "  </thead>\n",
              "  <tbody>\n",
              "    <tr>\n",
              "      <th>0</th>\n",
              "      <td>43900</td>\n",
              "      <td>2016</td>\n",
              "      <td>4</td>\n",
              "      <td>6</td>\n",
              "      <td>43500</td>\n",
              "      <td>clean</td>\n",
              "      <td>automatic</td>\n",
              "      <td>4wd</td>\n",
              "      <td>full-size</td>\n",
              "      <td>36.471500</td>\n",
              "      <td>-82.483400</td>\n",
              "      <td>59.0</td>\n",
              "    </tr>\n",
              "    <tr>\n",
              "      <th>1</th>\n",
              "      <td>15490</td>\n",
              "      <td>2009</td>\n",
              "      <td>2</td>\n",
              "      <td>8</td>\n",
              "      <td>98131</td>\n",
              "      <td>clean</td>\n",
              "      <td>automatic</td>\n",
              "      <td>4wd</td>\n",
              "      <td>full-size</td>\n",
              "      <td>40.468826</td>\n",
              "      <td>-74.281734</td>\n",
              "      <td>52.0</td>\n",
              "    </tr>\n",
              "    <tr>\n",
              "      <th>2</th>\n",
              "      <td>2495</td>\n",
              "      <td>2002</td>\n",
              "      <td>2</td>\n",
              "      <td>8</td>\n",
              "      <td>201803</td>\n",
              "      <td>clean</td>\n",
              "      <td>automatic</td>\n",
              "      <td>4wd</td>\n",
              "      <td>full-size</td>\n",
              "      <td>42.477134</td>\n",
              "      <td>-82.949564</td>\n",
              "      <td>45.0</td>\n",
              "    </tr>\n",
              "    <tr>\n",
              "      <th>3</th>\n",
              "      <td>1300</td>\n",
              "      <td>2000</td>\n",
              "      <td>1</td>\n",
              "      <td>8</td>\n",
              "      <td>170305</td>\n",
              "      <td>rebuilt</td>\n",
              "      <td>automatic</td>\n",
              "      <td>4wd</td>\n",
              "      <td>full-size</td>\n",
              "      <td>40.764373</td>\n",
              "      <td>-82.349503</td>\n",
              "      <td>49.0</td>\n",
              "    </tr>\n",
              "    <tr>\n",
              "      <th>4</th>\n",
              "      <td>13865</td>\n",
              "      <td>2010</td>\n",
              "      <td>3</td>\n",
              "      <td>8</td>\n",
              "      <td>166062</td>\n",
              "      <td>clean</td>\n",
              "      <td>automatic</td>\n",
              "      <td>4wd</td>\n",
              "      <td>NaN</td>\n",
              "      <td>49.210949</td>\n",
              "      <td>-123.114720</td>\n",
              "      <td>NaN</td>\n",
              "    </tr>\n",
              "  </tbody>\n",
              "</table>\n",
              "</div>\n",
              "    <div class=\"colab-df-buttons\">\n",
              "\n",
              "  <div class=\"colab-df-container\">\n",
              "    <button class=\"colab-df-convert\" onclick=\"convertToInteractive('df-5cb950f7-a34b-449d-9806-1ff050c633a3')\"\n",
              "            title=\"Convert this dataframe to an interactive table.\"\n",
              "            style=\"display:none;\">\n",
              "\n",
              "  <svg xmlns=\"http://www.w3.org/2000/svg\" height=\"24px\" viewBox=\"0 -960 960 960\">\n",
              "    <path d=\"M120-120v-720h720v720H120Zm60-500h600v-160H180v160Zm220 220h160v-160H400v160Zm0 220h160v-160H400v160ZM180-400h160v-160H180v160Zm440 0h160v-160H620v160ZM180-180h160v-160H180v160Zm440 0h160v-160H620v160Z\"/>\n",
              "  </svg>\n",
              "    </button>\n",
              "\n",
              "  <style>\n",
              "    .colab-df-container {\n",
              "      display:flex;\n",
              "      gap: 12px;\n",
              "    }\n",
              "\n",
              "    .colab-df-convert {\n",
              "      background-color: #E8F0FE;\n",
              "      border: none;\n",
              "      border-radius: 50%;\n",
              "      cursor: pointer;\n",
              "      display: none;\n",
              "      fill: #1967D2;\n",
              "      height: 32px;\n",
              "      padding: 0 0 0 0;\n",
              "      width: 32px;\n",
              "    }\n",
              "\n",
              "    .colab-df-convert:hover {\n",
              "      background-color: #E2EBFA;\n",
              "      box-shadow: 0px 1px 2px rgba(60, 64, 67, 0.3), 0px 1px 3px 1px rgba(60, 64, 67, 0.15);\n",
              "      fill: #174EA6;\n",
              "    }\n",
              "\n",
              "    .colab-df-buttons div {\n",
              "      margin-bottom: 4px;\n",
              "    }\n",
              "\n",
              "    [theme=dark] .colab-df-convert {\n",
              "      background-color: #3B4455;\n",
              "      fill: #D2E3FC;\n",
              "    }\n",
              "\n",
              "    [theme=dark] .colab-df-convert:hover {\n",
              "      background-color: #434B5C;\n",
              "      box-shadow: 0px 1px 3px 1px rgba(0, 0, 0, 0.15);\n",
              "      filter: drop-shadow(0px 1px 2px rgba(0, 0, 0, 0.3));\n",
              "      fill: #FFFFFF;\n",
              "    }\n",
              "  </style>\n",
              "\n",
              "    <script>\n",
              "      const buttonEl =\n",
              "        document.querySelector('#df-5cb950f7-a34b-449d-9806-1ff050c633a3 button.colab-df-convert');\n",
              "      buttonEl.style.display =\n",
              "        google.colab.kernel.accessAllowed ? 'block' : 'none';\n",
              "\n",
              "      async function convertToInteractive(key) {\n",
              "        const element = document.querySelector('#df-5cb950f7-a34b-449d-9806-1ff050c633a3');\n",
              "        const dataTable =\n",
              "          await google.colab.kernel.invokeFunction('convertToInteractive',\n",
              "                                                    [key], {});\n",
              "        if (!dataTable) return;\n",
              "\n",
              "        const docLinkHtml = 'Like what you see? Visit the ' +\n",
              "          '<a target=\"_blank\" href=https://colab.research.google.com/notebooks/data_table.ipynb>data table notebook</a>'\n",
              "          + ' to learn more about interactive tables.';\n",
              "        element.innerHTML = '';\n",
              "        dataTable['output_type'] = 'display_data';\n",
              "        await google.colab.output.renderOutput(dataTable, element);\n",
              "        const docLink = document.createElement('div');\n",
              "        docLink.innerHTML = docLinkHtml;\n",
              "        element.appendChild(docLink);\n",
              "      }\n",
              "    </script>\n",
              "  </div>\n",
              "\n",
              "\n",
              "<div id=\"df-db313980-1f4c-4932-b38d-ba0d2405803d\">\n",
              "  <button class=\"colab-df-quickchart\" onclick=\"quickchart('df-db313980-1f4c-4932-b38d-ba0d2405803d')\"\n",
              "            title=\"Suggest charts\"\n",
              "            style=\"display:none;\">\n",
              "\n",
              "<svg xmlns=\"http://www.w3.org/2000/svg\" height=\"24px\"viewBox=\"0 0 24 24\"\n",
              "     width=\"24px\">\n",
              "    <g>\n",
              "        <path d=\"M19 3H5c-1.1 0-2 .9-2 2v14c0 1.1.9 2 2 2h14c1.1 0 2-.9 2-2V5c0-1.1-.9-2-2-2zM9 17H7v-7h2v7zm4 0h-2V7h2v10zm4 0h-2v-4h2v4z\"/>\n",
              "    </g>\n",
              "</svg>\n",
              "  </button>\n",
              "\n",
              "<style>\n",
              "  .colab-df-quickchart {\n",
              "      --bg-color: #E8F0FE;\n",
              "      --fill-color: #1967D2;\n",
              "      --hover-bg-color: #E2EBFA;\n",
              "      --hover-fill-color: #174EA6;\n",
              "      --disabled-fill-color: #AAA;\n",
              "      --disabled-bg-color: #DDD;\n",
              "  }\n",
              "\n",
              "  [theme=dark] .colab-df-quickchart {\n",
              "      --bg-color: #3B4455;\n",
              "      --fill-color: #D2E3FC;\n",
              "      --hover-bg-color: #434B5C;\n",
              "      --hover-fill-color: #FFFFFF;\n",
              "      --disabled-bg-color: #3B4455;\n",
              "      --disabled-fill-color: #666;\n",
              "  }\n",
              "\n",
              "  .colab-df-quickchart {\n",
              "    background-color: var(--bg-color);\n",
              "    border: none;\n",
              "    border-radius: 50%;\n",
              "    cursor: pointer;\n",
              "    display: none;\n",
              "    fill: var(--fill-color);\n",
              "    height: 32px;\n",
              "    padding: 0;\n",
              "    width: 32px;\n",
              "  }\n",
              "\n",
              "  .colab-df-quickchart:hover {\n",
              "    background-color: var(--hover-bg-color);\n",
              "    box-shadow: 0 1px 2px rgba(60, 64, 67, 0.3), 0 1px 3px 1px rgba(60, 64, 67, 0.15);\n",
              "    fill: var(--button-hover-fill-color);\n",
              "  }\n",
              "\n",
              "  .colab-df-quickchart-complete:disabled,\n",
              "  .colab-df-quickchart-complete:disabled:hover {\n",
              "    background-color: var(--disabled-bg-color);\n",
              "    fill: var(--disabled-fill-color);\n",
              "    box-shadow: none;\n",
              "  }\n",
              "\n",
              "  .colab-df-spinner {\n",
              "    border: 2px solid var(--fill-color);\n",
              "    border-color: transparent;\n",
              "    border-bottom-color: var(--fill-color);\n",
              "    animation:\n",
              "      spin 1s steps(1) infinite;\n",
              "  }\n",
              "\n",
              "  @keyframes spin {\n",
              "    0% {\n",
              "      border-color: transparent;\n",
              "      border-bottom-color: var(--fill-color);\n",
              "      border-left-color: var(--fill-color);\n",
              "    }\n",
              "    20% {\n",
              "      border-color: transparent;\n",
              "      border-left-color: var(--fill-color);\n",
              "      border-top-color: var(--fill-color);\n",
              "    }\n",
              "    30% {\n",
              "      border-color: transparent;\n",
              "      border-left-color: var(--fill-color);\n",
              "      border-top-color: var(--fill-color);\n",
              "      border-right-color: var(--fill-color);\n",
              "    }\n",
              "    40% {\n",
              "      border-color: transparent;\n",
              "      border-right-color: var(--fill-color);\n",
              "      border-top-color: var(--fill-color);\n",
              "    }\n",
              "    60% {\n",
              "      border-color: transparent;\n",
              "      border-right-color: var(--fill-color);\n",
              "    }\n",
              "    80% {\n",
              "      border-color: transparent;\n",
              "      border-right-color: var(--fill-color);\n",
              "      border-bottom-color: var(--fill-color);\n",
              "    }\n",
              "    90% {\n",
              "      border-color: transparent;\n",
              "      border-bottom-color: var(--fill-color);\n",
              "    }\n",
              "  }\n",
              "</style>\n",
              "\n",
              "  <script>\n",
              "    async function quickchart(key) {\n",
              "      const quickchartButtonEl =\n",
              "        document.querySelector('#' + key + ' button');\n",
              "      quickchartButtonEl.disabled = true;  // To prevent multiple clicks.\n",
              "      quickchartButtonEl.classList.add('colab-df-spinner');\n",
              "      try {\n",
              "        const charts = await google.colab.kernel.invokeFunction(\n",
              "            'suggestCharts', [key], {});\n",
              "      } catch (error) {\n",
              "        console.error('Error during call to suggestCharts:', error);\n",
              "      }\n",
              "      quickchartButtonEl.classList.remove('colab-df-spinner');\n",
              "      quickchartButtonEl.classList.add('colab-df-quickchart-complete');\n",
              "    }\n",
              "    (() => {\n",
              "      let quickchartButtonEl =\n",
              "        document.querySelector('#df-db313980-1f4c-4932-b38d-ba0d2405803d button');\n",
              "      quickchartButtonEl.style.display =\n",
              "        google.colab.kernel.accessAllowed ? 'block' : 'none';\n",
              "    })();\n",
              "  </script>\n",
              "</div>\n",
              "    </div>\n",
              "  </div>\n"
            ],
            "application/vnd.google.colaboratory.intrinsic+json": {
              "type": "dataframe",
              "variable_name": "training_data",
              "summary": "{\n  \"name\": \"training_data\",\n  \"rows\": 4913,\n  \"fields\": [\n    {\n      \"column\": \"price\",\n      \"properties\": {\n        \"dtype\": \"number\",\n        \"std\": 11931,\n        \"min\": 1,\n        \"max\": 299500,\n        \"num_unique_values\": 1081,\n        \"samples\": [\n          9995,\n          25999,\n          6300\n        ],\n        \"semantic_type\": \"\",\n        \"description\": \"\"\n      }\n    },\n    {\n      \"column\": \"year\",\n      \"properties\": {\n        \"dtype\": \"number\",\n        \"std\": 6,\n        \"min\": 1957,\n        \"max\": 2018,\n        \"num_unique_values\": 43,\n        \"samples\": [\n          1977,\n          1997,\n          1987\n        ],\n        \"semantic_type\": \"\",\n        \"description\": \"\"\n      }\n    },\n    {\n      \"column\": \"condition\",\n      \"properties\": {\n        \"dtype\": \"number\",\n        \"std\": 0,\n        \"min\": 0,\n        \"max\": 5,\n        \"num_unique_values\": 6,\n        \"samples\": [\n          4,\n          2,\n          5\n        ],\n        \"semantic_type\": \"\",\n        \"description\": \"\"\n      }\n    },\n    {\n      \"column\": \"cylinders\",\n      \"properties\": {\n        \"dtype\": \"number\",\n        \"std\": 0,\n        \"min\": 3,\n        \"max\": 10,\n        \"num_unique_values\": 6,\n        \"samples\": [\n          6,\n          8,\n          3\n        ],\n        \"semantic_type\": \"\",\n        \"description\": \"\"\n      }\n    },\n    {\n      \"column\": \"odometer\",\n      \"properties\": {\n        \"dtype\": \"number\",\n        \"std\": 85824,\n        \"min\": 0,\n        \"max\": 2368940,\n        \"num_unique_values\": 2073,\n        \"samples\": [\n          58748,\n          70850,\n          154042\n        ],\n        \"semantic_type\": \"\",\n        \"description\": \"\"\n      }\n    },\n    {\n      \"column\": \"title_status\",\n      \"properties\": {\n        \"dtype\": \"category\",\n        \"num_unique_values\": 5,\n        \"samples\": [\n          \"rebuilt\",\n          \"missing\",\n          \"lien\"\n        ],\n        \"semantic_type\": \"\",\n        \"description\": \"\"\n      }\n    },\n    {\n      \"column\": \"transmission\",\n      \"properties\": {\n        \"dtype\": \"category\",\n        \"num_unique_values\": 3,\n        \"samples\": [\n          \"automatic\",\n          \"manual\",\n          \"other\"\n        ],\n        \"semantic_type\": \"\",\n        \"description\": \"\"\n      }\n    },\n    {\n      \"column\": \"drive\",\n      \"properties\": {\n        \"dtype\": \"category\",\n        \"num_unique_values\": 3,\n        \"samples\": [\n          \"4wd\",\n          \"rwd\",\n          \"fwd\"\n        ],\n        \"semantic_type\": \"\",\n        \"description\": \"\"\n      }\n    },\n    {\n      \"column\": \"size\",\n      \"properties\": {\n        \"dtype\": \"category\",\n        \"num_unique_values\": 4,\n        \"samples\": [\n          \"mid-size\",\n          \"sub-compact\",\n          \"full-size\"\n        ],\n        \"semantic_type\": \"\",\n        \"description\": \"\"\n      }\n    },\n    {\n      \"column\": \"lat\",\n      \"properties\": {\n        \"dtype\": \"number\",\n        \"std\": 5.669984283472835,\n        \"min\": 5.377001,\n        \"max\": 64.878089,\n        \"num_unique_values\": 2304,\n        \"samples\": [\n          42.665448,\n          43.624215,\n          36.0557\n        ],\n        \"semantic_type\": \"\",\n        \"description\": \"\"\n      }\n    },\n    {\n      \"column\": \"long\",\n      \"properties\": {\n        \"dtype\": \"number\",\n        \"std\": 13.922217122924224,\n        \"min\": -151.055832,\n        \"max\": -5.377999,\n        \"num_unique_values\": 2309,\n        \"samples\": [\n          -80.794,\n          -83.897825,\n          -94.2684\n        ],\n        \"semantic_type\": \"\",\n        \"description\": \"\"\n      }\n    },\n    {\n      \"column\": \"weather\",\n      \"properties\": {\n        \"dtype\": \"number\",\n        \"std\": 7.947837786299561,\n        \"min\": 29.0,\n        \"max\": 71.0,\n        \"num_unique_values\": 25,\n        \"samples\": [\n          71.0,\n          43.0,\n          59.0\n        ],\n        \"semantic_type\": \"\",\n        \"description\": \"\"\n      }\n    }\n  ]\n}"
            }
          },
          "metadata": {},
          "execution_count": 2
        }
      ]
    },
    {
      "cell_type": "code",
      "source": [
        "import numpy as np\n",
        "import matplotlib.pyplot as plt\n",
        "import seaborn as sns\n",
        "%matplotlib inline"
      ],
      "metadata": {
        "id": "Xq8gkYNliOV6"
      },
      "execution_count": null,
      "outputs": []
    },
    {
      "cell_type": "markdown",
      "source": [
        "Очистка от нечисловых данных:"
      ],
      "metadata": {
        "id": "xReh27f1mhJk"
      }
    },
    {
      "cell_type": "code",
      "source": [
        "training_data = training_data.dropna()"
      ],
      "metadata": {
        "id": "GYUNa_2WiY_R"
      },
      "execution_count": null,
      "outputs": []
    },
    {
      "cell_type": "code",
      "source": [
        "training_data = training_data._get_numeric_data()"
      ],
      "metadata": {
        "id": "TvzQA0_iiedc"
      },
      "execution_count": null,
      "outputs": []
    },
    {
      "cell_type": "code",
      "source": [
        "training_data.head()"
      ],
      "metadata": {
        "colab": {
          "base_uri": "https://localhost:8080/",
          "height": 206
        },
        "id": "TMdOA8NwiglM",
        "outputId": "330f904e-b198-4922-901b-4738876b4b72"
      },
      "execution_count": null,
      "outputs": [
        {
          "output_type": "execute_result",
          "data": {
            "text/plain": [
              "   price  year  condition  cylinders  odometer        lat        long  weather\n",
              "0  43900  2016          4          6     43500  36.471500  -82.483400     59.0\n",
              "1  15490  2009          2          8     98131  40.468826  -74.281734     52.0\n",
              "2   2495  2002          2          8    201803  42.477134  -82.949564     45.0\n",
              "3   1300  2000          1          8    170305  40.764373  -82.349503     49.0\n",
              "5   6995  2003          3          8    167662  45.518031 -122.578752     50.0"
            ],
            "text/html": [
              "\n",
              "  <div id=\"df-d3dbe52e-1428-49b1-9871-956652680776\" class=\"colab-df-container\">\n",
              "    <div>\n",
              "<style scoped>\n",
              "    .dataframe tbody tr th:only-of-type {\n",
              "        vertical-align: middle;\n",
              "    }\n",
              "\n",
              "    .dataframe tbody tr th {\n",
              "        vertical-align: top;\n",
              "    }\n",
              "\n",
              "    .dataframe thead th {\n",
              "        text-align: right;\n",
              "    }\n",
              "</style>\n",
              "<table border=\"1\" class=\"dataframe\">\n",
              "  <thead>\n",
              "    <tr style=\"text-align: right;\">\n",
              "      <th></th>\n",
              "      <th>price</th>\n",
              "      <th>year</th>\n",
              "      <th>condition</th>\n",
              "      <th>cylinders</th>\n",
              "      <th>odometer</th>\n",
              "      <th>lat</th>\n",
              "      <th>long</th>\n",
              "      <th>weather</th>\n",
              "    </tr>\n",
              "  </thead>\n",
              "  <tbody>\n",
              "    <tr>\n",
              "      <th>0</th>\n",
              "      <td>43900</td>\n",
              "      <td>2016</td>\n",
              "      <td>4</td>\n",
              "      <td>6</td>\n",
              "      <td>43500</td>\n",
              "      <td>36.471500</td>\n",
              "      <td>-82.483400</td>\n",
              "      <td>59.0</td>\n",
              "    </tr>\n",
              "    <tr>\n",
              "      <th>1</th>\n",
              "      <td>15490</td>\n",
              "      <td>2009</td>\n",
              "      <td>2</td>\n",
              "      <td>8</td>\n",
              "      <td>98131</td>\n",
              "      <td>40.468826</td>\n",
              "      <td>-74.281734</td>\n",
              "      <td>52.0</td>\n",
              "    </tr>\n",
              "    <tr>\n",
              "      <th>2</th>\n",
              "      <td>2495</td>\n",
              "      <td>2002</td>\n",
              "      <td>2</td>\n",
              "      <td>8</td>\n",
              "      <td>201803</td>\n",
              "      <td>42.477134</td>\n",
              "      <td>-82.949564</td>\n",
              "      <td>45.0</td>\n",
              "    </tr>\n",
              "    <tr>\n",
              "      <th>3</th>\n",
              "      <td>1300</td>\n",
              "      <td>2000</td>\n",
              "      <td>1</td>\n",
              "      <td>8</td>\n",
              "      <td>170305</td>\n",
              "      <td>40.764373</td>\n",
              "      <td>-82.349503</td>\n",
              "      <td>49.0</td>\n",
              "    </tr>\n",
              "    <tr>\n",
              "      <th>5</th>\n",
              "      <td>6995</td>\n",
              "      <td>2003</td>\n",
              "      <td>3</td>\n",
              "      <td>8</td>\n",
              "      <td>167662</td>\n",
              "      <td>45.518031</td>\n",
              "      <td>-122.578752</td>\n",
              "      <td>50.0</td>\n",
              "    </tr>\n",
              "  </tbody>\n",
              "</table>\n",
              "</div>\n",
              "    <div class=\"colab-df-buttons\">\n",
              "\n",
              "  <div class=\"colab-df-container\">\n",
              "    <button class=\"colab-df-convert\" onclick=\"convertToInteractive('df-d3dbe52e-1428-49b1-9871-956652680776')\"\n",
              "            title=\"Convert this dataframe to an interactive table.\"\n",
              "            style=\"display:none;\">\n",
              "\n",
              "  <svg xmlns=\"http://www.w3.org/2000/svg\" height=\"24px\" viewBox=\"0 -960 960 960\">\n",
              "    <path d=\"M120-120v-720h720v720H120Zm60-500h600v-160H180v160Zm220 220h160v-160H400v160Zm0 220h160v-160H400v160ZM180-400h160v-160H180v160Zm440 0h160v-160H620v160ZM180-180h160v-160H180v160Zm440 0h160v-160H620v160Z\"/>\n",
              "  </svg>\n",
              "    </button>\n",
              "\n",
              "  <style>\n",
              "    .colab-df-container {\n",
              "      display:flex;\n",
              "      gap: 12px;\n",
              "    }\n",
              "\n",
              "    .colab-df-convert {\n",
              "      background-color: #E8F0FE;\n",
              "      border: none;\n",
              "      border-radius: 50%;\n",
              "      cursor: pointer;\n",
              "      display: none;\n",
              "      fill: #1967D2;\n",
              "      height: 32px;\n",
              "      padding: 0 0 0 0;\n",
              "      width: 32px;\n",
              "    }\n",
              "\n",
              "    .colab-df-convert:hover {\n",
              "      background-color: #E2EBFA;\n",
              "      box-shadow: 0px 1px 2px rgba(60, 64, 67, 0.3), 0px 1px 3px 1px rgba(60, 64, 67, 0.15);\n",
              "      fill: #174EA6;\n",
              "    }\n",
              "\n",
              "    .colab-df-buttons div {\n",
              "      margin-bottom: 4px;\n",
              "    }\n",
              "\n",
              "    [theme=dark] .colab-df-convert {\n",
              "      background-color: #3B4455;\n",
              "      fill: #D2E3FC;\n",
              "    }\n",
              "\n",
              "    [theme=dark] .colab-df-convert:hover {\n",
              "      background-color: #434B5C;\n",
              "      box-shadow: 0px 1px 3px 1px rgba(0, 0, 0, 0.15);\n",
              "      filter: drop-shadow(0px 1px 2px rgba(0, 0, 0, 0.3));\n",
              "      fill: #FFFFFF;\n",
              "    }\n",
              "  </style>\n",
              "\n",
              "    <script>\n",
              "      const buttonEl =\n",
              "        document.querySelector('#df-d3dbe52e-1428-49b1-9871-956652680776 button.colab-df-convert');\n",
              "      buttonEl.style.display =\n",
              "        google.colab.kernel.accessAllowed ? 'block' : 'none';\n",
              "\n",
              "      async function convertToInteractive(key) {\n",
              "        const element = document.querySelector('#df-d3dbe52e-1428-49b1-9871-956652680776');\n",
              "        const dataTable =\n",
              "          await google.colab.kernel.invokeFunction('convertToInteractive',\n",
              "                                                    [key], {});\n",
              "        if (!dataTable) return;\n",
              "\n",
              "        const docLinkHtml = 'Like what you see? Visit the ' +\n",
              "          '<a target=\"_blank\" href=https://colab.research.google.com/notebooks/data_table.ipynb>data table notebook</a>'\n",
              "          + ' to learn more about interactive tables.';\n",
              "        element.innerHTML = '';\n",
              "        dataTable['output_type'] = 'display_data';\n",
              "        await google.colab.output.renderOutput(dataTable, element);\n",
              "        const docLink = document.createElement('div');\n",
              "        docLink.innerHTML = docLinkHtml;\n",
              "        element.appendChild(docLink);\n",
              "      }\n",
              "    </script>\n",
              "  </div>\n",
              "\n",
              "\n",
              "<div id=\"df-130658fe-faa0-41e4-9a51-c9325c87cdf5\">\n",
              "  <button class=\"colab-df-quickchart\" onclick=\"quickchart('df-130658fe-faa0-41e4-9a51-c9325c87cdf5')\"\n",
              "            title=\"Suggest charts\"\n",
              "            style=\"display:none;\">\n",
              "\n",
              "<svg xmlns=\"http://www.w3.org/2000/svg\" height=\"24px\"viewBox=\"0 0 24 24\"\n",
              "     width=\"24px\">\n",
              "    <g>\n",
              "        <path d=\"M19 3H5c-1.1 0-2 .9-2 2v14c0 1.1.9 2 2 2h14c1.1 0 2-.9 2-2V5c0-1.1-.9-2-2-2zM9 17H7v-7h2v7zm4 0h-2V7h2v10zm4 0h-2v-4h2v4z\"/>\n",
              "    </g>\n",
              "</svg>\n",
              "  </button>\n",
              "\n",
              "<style>\n",
              "  .colab-df-quickchart {\n",
              "      --bg-color: #E8F0FE;\n",
              "      --fill-color: #1967D2;\n",
              "      --hover-bg-color: #E2EBFA;\n",
              "      --hover-fill-color: #174EA6;\n",
              "      --disabled-fill-color: #AAA;\n",
              "      --disabled-bg-color: #DDD;\n",
              "  }\n",
              "\n",
              "  [theme=dark] .colab-df-quickchart {\n",
              "      --bg-color: #3B4455;\n",
              "      --fill-color: #D2E3FC;\n",
              "      --hover-bg-color: #434B5C;\n",
              "      --hover-fill-color: #FFFFFF;\n",
              "      --disabled-bg-color: #3B4455;\n",
              "      --disabled-fill-color: #666;\n",
              "  }\n",
              "\n",
              "  .colab-df-quickchart {\n",
              "    background-color: var(--bg-color);\n",
              "    border: none;\n",
              "    border-radius: 50%;\n",
              "    cursor: pointer;\n",
              "    display: none;\n",
              "    fill: var(--fill-color);\n",
              "    height: 32px;\n",
              "    padding: 0;\n",
              "    width: 32px;\n",
              "  }\n",
              "\n",
              "  .colab-df-quickchart:hover {\n",
              "    background-color: var(--hover-bg-color);\n",
              "    box-shadow: 0 1px 2px rgba(60, 64, 67, 0.3), 0 1px 3px 1px rgba(60, 64, 67, 0.15);\n",
              "    fill: var(--button-hover-fill-color);\n",
              "  }\n",
              "\n",
              "  .colab-df-quickchart-complete:disabled,\n",
              "  .colab-df-quickchart-complete:disabled:hover {\n",
              "    background-color: var(--disabled-bg-color);\n",
              "    fill: var(--disabled-fill-color);\n",
              "    box-shadow: none;\n",
              "  }\n",
              "\n",
              "  .colab-df-spinner {\n",
              "    border: 2px solid var(--fill-color);\n",
              "    border-color: transparent;\n",
              "    border-bottom-color: var(--fill-color);\n",
              "    animation:\n",
              "      spin 1s steps(1) infinite;\n",
              "  }\n",
              "\n",
              "  @keyframes spin {\n",
              "    0% {\n",
              "      border-color: transparent;\n",
              "      border-bottom-color: var(--fill-color);\n",
              "      border-left-color: var(--fill-color);\n",
              "    }\n",
              "    20% {\n",
              "      border-color: transparent;\n",
              "      border-left-color: var(--fill-color);\n",
              "      border-top-color: var(--fill-color);\n",
              "    }\n",
              "    30% {\n",
              "      border-color: transparent;\n",
              "      border-left-color: var(--fill-color);\n",
              "      border-top-color: var(--fill-color);\n",
              "      border-right-color: var(--fill-color);\n",
              "    }\n",
              "    40% {\n",
              "      border-color: transparent;\n",
              "      border-right-color: var(--fill-color);\n",
              "      border-top-color: var(--fill-color);\n",
              "    }\n",
              "    60% {\n",
              "      border-color: transparent;\n",
              "      border-right-color: var(--fill-color);\n",
              "    }\n",
              "    80% {\n",
              "      border-color: transparent;\n",
              "      border-right-color: var(--fill-color);\n",
              "      border-bottom-color: var(--fill-color);\n",
              "    }\n",
              "    90% {\n",
              "      border-color: transparent;\n",
              "      border-bottom-color: var(--fill-color);\n",
              "    }\n",
              "  }\n",
              "</style>\n",
              "\n",
              "  <script>\n",
              "    async function quickchart(key) {\n",
              "      const quickchartButtonEl =\n",
              "        document.querySelector('#' + key + ' button');\n",
              "      quickchartButtonEl.disabled = true;  // To prevent multiple clicks.\n",
              "      quickchartButtonEl.classList.add('colab-df-spinner');\n",
              "      try {\n",
              "        const charts = await google.colab.kernel.invokeFunction(\n",
              "            'suggestCharts', [key], {});\n",
              "      } catch (error) {\n",
              "        console.error('Error during call to suggestCharts:', error);\n",
              "      }\n",
              "      quickchartButtonEl.classList.remove('colab-df-spinner');\n",
              "      quickchartButtonEl.classList.add('colab-df-quickchart-complete');\n",
              "    }\n",
              "    (() => {\n",
              "      let quickchartButtonEl =\n",
              "        document.querySelector('#df-130658fe-faa0-41e4-9a51-c9325c87cdf5 button');\n",
              "      quickchartButtonEl.style.display =\n",
              "        google.colab.kernel.accessAllowed ? 'block' : 'none';\n",
              "    })();\n",
              "  </script>\n",
              "</div>\n",
              "    </div>\n",
              "  </div>\n"
            ],
            "application/vnd.google.colaboratory.intrinsic+json": {
              "type": "dataframe",
              "variable_name": "training_data",
              "summary": "{\n  \"name\": \"training_data\",\n  \"rows\": 3659,\n  \"fields\": [\n    {\n      \"column\": \"price\",\n      \"properties\": {\n        \"dtype\": \"number\",\n        \"std\": 10815,\n        \"min\": 1,\n        \"max\": 74374,\n        \"num_unique_values\": 922,\n        \"samples\": [\n          10999,\n          11000,\n          9400\n        ],\n        \"semantic_type\": \"\",\n        \"description\": \"\"\n      }\n    },\n    {\n      \"column\": \"year\",\n      \"properties\": {\n        \"dtype\": \"number\",\n        \"std\": 6,\n        \"min\": 1965,\n        \"max\": 2018,\n        \"num_unique_values\": 41,\n        \"samples\": [\n          1996,\n          2011,\n          2008\n        ],\n        \"semantic_type\": \"\",\n        \"description\": \"\"\n      }\n    },\n    {\n      \"column\": \"condition\",\n      \"properties\": {\n        \"dtype\": \"number\",\n        \"std\": 0,\n        \"min\": 0,\n        \"max\": 5,\n        \"num_unique_values\": 6,\n        \"samples\": [\n          4,\n          2,\n          5\n        ],\n        \"semantic_type\": \"\",\n        \"description\": \"\"\n      }\n    },\n    {\n      \"column\": \"cylinders\",\n      \"properties\": {\n        \"dtype\": \"number\",\n        \"std\": 0,\n        \"min\": 3,\n        \"max\": 10,\n        \"num_unique_values\": 6,\n        \"samples\": [\n          6,\n          8,\n          5\n        ],\n        \"semantic_type\": \"\",\n        \"description\": \"\"\n      }\n    },\n    {\n      \"column\": \"odometer\",\n      \"properties\": {\n        \"dtype\": \"number\",\n        \"std\": 82617,\n        \"min\": 0,\n        \"max\": 2368940,\n        \"num_unique_values\": 1649,\n        \"samples\": [\n          86005,\n          11286,\n          146785\n        ],\n        \"semantic_type\": \"\",\n        \"description\": \"\"\n      }\n    },\n    {\n      \"column\": \"lat\",\n      \"properties\": {\n        \"dtype\": \"number\",\n        \"std\": 5.3400037012247115,\n        \"min\": 25.7392,\n        \"max\": 64.8378,\n        \"num_unique_values\": 1602,\n        \"samples\": [\n          30.6222,\n          25.950376,\n          47.729625\n        ],\n        \"semantic_type\": \"\",\n        \"description\": \"\"\n      }\n    },\n    {\n      \"column\": \"long\",\n      \"properties\": {\n        \"dtype\": \"number\",\n        \"std\": 12.879007758423546,\n        \"min\": -151.055832,\n        \"max\": -68.4121,\n        \"num_unique_values\": 1606,\n        \"samples\": [\n          -92.5408,\n          -85.255966,\n          -80.38561\n        ],\n        \"semantic_type\": \"\",\n        \"description\": \"\"\n      }\n    },\n    {\n      \"column\": \"weather\",\n      \"properties\": {\n        \"dtype\": \"number\",\n        \"std\": 7.73494976418146,\n        \"min\": 29.0,\n        \"max\": 71.0,\n        \"num_unique_values\": 25,\n        \"samples\": [\n          71.0,\n          60.0,\n          59.0\n        ],\n        \"semantic_type\": \"\",\n        \"description\": \"\"\n      }\n    }\n  ]\n}"
            }
          },
          "metadata": {},
          "execution_count": 6
        }
      ]
    },
    {
      "cell_type": "code",
      "source": [
        "target_variable_name = 'price'\n",
        "training_values = training_data[target_variable_name]\n",
        "training_points = training_data.drop(target_variable_name, axis=1)"
      ],
      "metadata": {
        "id": "-KTGjYYEih4V"
      },
      "execution_count": null,
      "outputs": []
    },
    {
      "cell_type": "code",
      "source": [
        "from sklearn.linear_model import LinearRegression\n",
        "linReg = LinearRegression()\n"
      ],
      "metadata": {
        "id": "QMQcq4Zjiu52"
      },
      "execution_count": null,
      "outputs": []
    },
    {
      "cell_type": "markdown",
      "source": [
        "Создание тепловой карты матрицы корреляции:"
      ],
      "metadata": {
        "id": "NadkWASfmtmI"
      }
    },
    {
      "cell_type": "code",
      "source": [
        "col = ['price','year','condition','cylinders','odometer','lat','long','weather']\n",
        "hm = sns.heatmap(training_data[col].corr(),\n",
        "                 cbar=True,\n",
        "                 annot=True)\n"
      ],
      "metadata": {
        "colab": {
          "base_uri": "https://localhost:8080/",
          "height": 489
        },
        "id": "Zu6m4lAlixAk",
        "outputId": "42d581d5-210a-49ea-ec5b-ebeab25c8755"
      },
      "execution_count": null,
      "outputs": [
        {
          "output_type": "display_data",
          "data": {
            "text/plain": [
              "<Figure size 640x480 with 2 Axes>"
            ],
            "image/png": "[encoded data removed]"
          },
          "metadata": {}
        }
      ]
    },
    {
      "cell_type": "markdown",
      "source": [
        "Тестирование модели линейной регрессии:"
      ],
      "metadata": {
        "id": "zwqICI0onXhm"
      }
    },
    {
      "cell_type": "code",
      "source": [
        "X = training_data[['year']].values\n",
        "y = training_values"
      ],
      "metadata": {
        "id": "BpF64cHRj_4p"
      },
      "execution_count": null,
      "outputs": []
    },
    {
      "cell_type": "code",
      "source": [
        "linReg.fit(X, y)\n",
        "y_pred = linReg.predict(X)"
      ],
      "metadata": {
        "id": "Hat4GmsCklJf"
      },
      "execution_count": null,
      "outputs": []
    },
    {
      "cell_type": "code",
      "source": [
        "plt.scatter(X, y)\n",
        "plt.plot(X, linReg.predict(X), color='red', linewidth=2);"
      ],
      "metadata": {
        "colab": {
          "base_uri": "https://localhost:8080/",
          "height": 430
        },
        "id": "FDDD9qx0koiZ",
        "outputId": "f6ebc30c-643d-4b79-802c-acad41413102"
      },
      "execution_count": null,
      "outputs": [
        {
          "output_type": "display_data",
          "data": {
            "text/plain": [
              "<Figure size 640x480 with 1 Axes>"
            ],
            "image/png": "[encoded data removed]"
          },
          "metadata": {}
        }
      ]
    },
    {
      "cell_type": "code",
      "metadata": {
        "id": "l_OqN5qcdZCz"
      },
      "source": [
        "from sklearn.model_selection import train_test_split\n",
        "X = training_data[['odometer']].values\n",
        "y = training_values\n",
        "X_train, X_test, y_train, y_test = train_test_split(X, y, test_size=0.2, random_state=0)"
      ],
      "execution_count": null,
      "outputs": []
    },
    {
      "cell_type": "code",
      "source": [
        "linReg.fit(X, y)\n",
        "y_pred = linReg.predict(X)\n",
        "plt.scatter(X, y)\n",
        "plt.plot(X, linReg.predict(X), color='red', linewidth=2);"
      ],
      "metadata": {
        "colab": {
          "base_uri": "https://localhost:8080/",
          "height": 448
        },
        "id": "gJYuqzWWsjuu",
        "outputId": "571d50fd-f23b-48e0-81be-90713843a98b"
      },
      "execution_count": null,
      "outputs": [
        {
          "output_type": "display_data",
          "data": {
            "text/plain": [
              "<Figure size 640x480 with 1 Axes>"
            ],
            "image/png": "[encoded data removed]"
          },
          "metadata": {}
        }
      ]
    },
    {
      "cell_type": "markdown",
      "source": [
        "Обучение модели на тренировочных и тестовых данных:"
      ],
      "metadata": {
        "id": "znthAjW0ntVd"
      }
    },
    {
      "cell_type": "code",
      "metadata": {
        "id": "dWZ7qM2yddL4"
      },
      "source": [
        "linReg = LinearRegression()\n",
        "linReg.fit(X_train, y_train)\n",
        "y_train_pred = linReg.predict(X_train)\n",
        "y_test_pred = linReg.predict(X_test)"
      ],
      "execution_count": null,
      "outputs": []
    },
    {
      "cell_type": "code",
      "source": [
        "from sklearn.metrics import mean_absolute_error, mean_squared_error\n",
        "\n",
        "print('MAE train: {:.3f}, test: {:.3f}'.format(\n",
        "        mean_absolute_error(y_train, y_train_pred),\n",
        "        mean_absolute_error(y_test, y_test_pred)))\n",
        "print('MSE train: {:.3f}, test: {:.3f}'.format(\n",
        "        mean_squared_error(y_train, y_train_pred),\n",
        "        mean_squared_error(y_test, y_test_pred)))"
      ],
      "metadata": {
        "colab": {
          "base_uri": "https://localhost:8080/"
        },
        "id": "K8yv8Ii5opw5",
        "outputId": "84e846b6-c48d-4d66-ac33-4d125cbbc9f6"
      },
      "execution_count": null,
      "outputs": [
        {
          "output_type": "stream",
          "name": "stdout",
          "text": [
            "MAE train: 7156.962, test: 7090.500\n",
            "MSE train: 91717656.713, test: 85003456.201\n"
          ]
        }
      ]
    },
    {
      "cell_type": "code",
      "source": [
        "from sklearn.metrics import mean_absolute_error, mean_squared_error\n",
        "\n",
        "print('MAE train: {:.3f}, test: {:.3f}'.format(\n",
        "        mean_absolute_error(y_train, y_train_pred),\n",
        "        mean_absolute_error(y_test, y_test_pred)))\n",
        "print('MSE train: {:.3f}, test: {:.3f}'.format(\n",
        "        mean_squared_error(y_train, y_train_pred),\n",
        "        mean_squared_error(y_test, y_test_pred)))"
      ],
      "metadata": {
        "colab": {
          "base_uri": "https://localhost:8080/"
        },
        "id": "bTAw96IUoyFA",
        "outputId": "b2c5f3f1-1cb6-4862-f725-7626b3a557c1"
      },
      "execution_count": null,
      "outputs": [
        {
          "output_type": "stream",
          "name": "stdout",
          "text": [
            "MAE train: 7156.962, test: 7090.500\n",
            "MSE train: 91717656.713, test: 85003456.201\n"
          ]
        }
      ]
    },
    {
      "cell_type": "code",
      "source": [
        "X = training_data[['odometer']].values\n",
        "y = training_values\n",
        "X_train, X_test, y_train, y_test = train_test_split(X, y, test_size=0.3, random_state=0)"
      ],
      "metadata": {
        "id": "4lAv0mpWo6r_"
      },
      "execution_count": null,
      "outputs": []
    },
    {
      "cell_type": "code",
      "source": [
        "linReg = LinearRegression()\n",
        "linReg.fit(X_train, y_train)\n",
        "y_train_pred = linReg.predict(X_train)\n",
        "y_test_pred = linReg.predict(X_test)"
      ],
      "metadata": {
        "id": "r3JWgzmepL47"
      },
      "execution_count": null,
      "outputs": []
    },
    {
      "cell_type": "code",
      "source": [
        "print('MAE train: {:.3f}, test: {:.3f}'.format(\n",
        "        mean_absolute_error(y_train, y_train_pred),\n",
        "        mean_absolute_error(y_test, y_test_pred)))\n",
        "print('MSE train: {:.3f}, test: {:.3f}'.format(\n",
        "        mean_squared_error(y_train, y_train_pred),\n",
        "        mean_squared_error(y_test, y_test_pred)))"
      ],
      "metadata": {
        "colab": {
          "base_uri": "https://localhost:8080/"
        },
        "id": "Hr1SAyOnpNd3",
        "outputId": "10d8157c-19a7-4473-9f49-95681bd938fc"
      },
      "execution_count": null,
      "outputs": [
        {
          "output_type": "stream",
          "name": "stdout",
          "text": [
            "MAE train: 7306.330, test: 6996.395\n",
            "MSE train: 95582811.566, test: 79093141.285\n"
          ]
        }
      ]
    },
    {
      "cell_type": "code",
      "source": [
        "X = np.asarray([training_data['year'].values, training_data['odometer'].values]).T\n",
        "y = training_values\n",
        "X_train, X_test, y_train, y_test = train_test_split(X, y, test_size=0.3, random_state=0)"
      ],
      "metadata": {
        "id": "tIjWkykn9tah"
      },
      "execution_count": null,
      "outputs": []
    },
    {
      "cell_type": "code",
      "source": [
        "linReg = LinearRegression()\n",
        "linReg.fit(X_train, y_train)\n",
        "y_train_pred = linReg.predict(X_train)\n",
        "y_test_pred = linReg.predict(X_test)"
      ],
      "metadata": {
        "id": "6hUGE-_O-A0J"
      },
      "execution_count": null,
      "outputs": []
    },
    {
      "cell_type": "code",
      "source": [
        "X"
      ],
      "metadata": {
        "colab": {
          "base_uri": "https://localhost:8080/"
        },
        "id": "J9a2O72_t-9o",
        "outputId": "bd17e801-22b7-4838-d8b4-47e418552ea7"
      },
      "execution_count": null,
      "outputs": [
        {
          "output_type": "execute_result",
          "data": {
            "text/plain": [
              "array([[  2016,  43500],\n",
              "       [  2009,  98131],\n",
              "       [  2002, 201803],\n",
              "       ...,\n",
              "       [  2013,  64412],\n",
              "       [  2014, 117123],\n",
              "       [  2010,  91275]])"
            ]
          },
          "metadata": {},
          "execution_count": 24
        }
      ]
    },
    {
      "cell_type": "code",
      "source": [
        "y"
      ],
      "metadata": {
        "colab": {
          "base_uri": "https://localhost:8080/"
        },
        "id": "dvbYiepTuBwR",
        "outputId": "7346d649-131f-441e-f188-dee970be96e7"
      },
      "execution_count": null,
      "outputs": [
        {
          "output_type": "execute_result",
          "data": {
            "text/plain": [
              "0       43900\n",
              "1       15490\n",
              "2        2495\n",
              "3        1300\n",
              "5        6995\n",
              "        ...  \n",
              "4906    14850\n",
              "4907     5979\n",
              "4908    21480\n",
              "4909        1\n",
              "4910    16500\n",
              "Name: price, Length: 3659, dtype: int64"
            ]
          },
          "metadata": {},
          "execution_count": 25
        }
      ]
    },
    {
      "cell_type": "markdown",
      "source": [
        "Работа с инструментами пакета tensorflow.keras и тестирования обучения моделей:"
      ],
      "metadata": {
        "id": "8qZ2AaTpoErS"
      }
    },
    {
      "cell_type": "code",
      "source": [
        "from tensorflow.keras import models\n",
        "from tensorflow.keras import layers"
      ],
      "metadata": {
        "id": "hrq_ZH1o-HcB"
      },
      "execution_count": null,
      "outputs": []
    },
    {
      "cell_type": "code",
      "source": [
        "from sklearn.model_selection import train_test_split\n",
        "X_train, X_test, y_train, y_test = train_test_split(X, y, train_size=0.8)"
      ],
      "metadata": {
        "id": "9EtFWsVp-Ka9"
      },
      "execution_count": null,
      "outputs": []
    },
    {
      "cell_type": "code",
      "source": [
        "model = models.Sequential()\n",
        "\n",
        "model.add(layers.Dense(13, kernel_initializer='uniform',activation = \"sigmoid\"))\n",
        "\n",
        "model.add(layers.Dense(20, kernel_initializer='uniform',activation = \"sigmoid\"))\n",
        "\n",
        "model.add(layers.Dense(1, activation = 'linear'))\n",
        "\n",
        "model.compile(\n",
        " optimizer = \"adam\",\n",
        " loss = \"mean_absolute_error\",\n",
        " metrics = [\"mean_absolute_error\"]\n",
        ")\n",
        "results = model.fit(\n",
        " X_train, y_train,\n",
        " epochs= 15,\n",
        " batch_size = 1,\n",
        " validation_data = (X_test, y_test)\n",
        ")\n",
        "print(\"Test-MAE:\", results.history[\"mean_absolute_error\"])"
      ],
      "metadata": {
        "id": "fbSgJMca-Mpg",
        "colab": {
          "base_uri": "https://localhost:8080/"
        },
        "outputId": "30d1e44f-5df0-4fdb-e6c4-8af367da9421"
      },
      "execution_count": null,
      "outputs": [
        {
          "output_type": "stream",
          "name": "stdout",
          "text": [
            "Epoch 1/15\n",
            "2927/2927 [==============================] - 7s 2ms/step - loss: 15323.4639 - mean_absolute_error: 15323.4639 - val_loss: 15547.1064 - val_mean_absolute_error: 15547.1064\n",
            "Epoch 2/15\n",
            "2927/2927 [==============================] - 5s 2ms/step - loss: 15262.1797 - mean_absolute_error: 15262.1797 - val_loss: 15487.9551 - val_mean_absolute_error: 15487.9551\n",
            "Epoch 3/15\n",
            "2927/2927 [==============================] - 6s 2ms/step - loss: 15203.3945 - mean_absolute_error: 15203.3945 - val_loss: 15429.1348 - val_mean_absolute_error: 15429.1348\n",
            "Epoch 4/15\n",
            "2927/2927 [==============================] - 5s 2ms/step - loss: 15144.7422 - mean_absolute_error: 15144.7422 - val_loss: 15370.4414 - val_mean_absolute_error: 15370.4414\n",
            "Epoch 5/15\n",
            "2927/2927 [==============================] - 6s 2ms/step - loss: 15086.1660 - mean_absolute_error: 15086.1660 - val_loss: 15311.7646 - val_mean_absolute_error: 15311.7646\n",
            "Epoch 6/15\n",
            "2927/2927 [==============================] - 5s 2ms/step - loss: 15027.6826 - mean_absolute_error: 15027.6826 - val_loss: 15253.0820 - val_mean_absolute_error: 15253.0820\n",
            "Epoch 7/15\n",
            "2927/2927 [==============================] - 6s 2ms/step - loss: 14969.2412 - mean_absolute_error: 14969.2412 - val_loss: 15194.4619 - val_mean_absolute_error: 15194.4619\n",
            "Epoch 8/15\n",
            "2927/2927 [==============================] - 6s 2ms/step - loss: 14910.8867 - mean_absolute_error: 14910.8867 - val_loss: 15135.9795 - val_mean_absolute_error: 15135.9795\n",
            "Epoch 9/15\n",
            "2927/2927 [==============================] - 6s 2ms/step - loss: 14852.6855 - mean_absolute_error: 14852.6855 - val_loss: 15077.3896 - val_mean_absolute_error: 15077.3896\n",
            "Epoch 10/15\n",
            "2927/2927 [==============================] - 6s 2ms/step - loss: 14794.7920 - mean_absolute_error: 14794.7920 - val_loss: 15019.2803 - val_mean_absolute_error: 15019.2803\n",
            "Epoch 11/15\n",
            "2927/2927 [==============================] - 5s 2ms/step - loss: 14737.0596 - mean_absolute_error: 14737.0596 - val_loss: 14961.0781 - val_mean_absolute_error: 14961.0781\n",
            "Epoch 12/15\n",
            "2927/2927 [==============================] - 6s 2ms/step - loss: 14679.4492 - mean_absolute_error: 14679.4492 - val_loss: 14903.1689 - val_mean_absolute_error: 14903.1689\n",
            "Epoch 13/15\n",
            "2927/2927 [==============================] - 5s 2ms/step - loss: 14622.2012 - mean_absolute_error: 14622.2012 - val_loss: 14845.3877 - val_mean_absolute_error: 14845.3877\n",
            "Epoch 14/15\n",
            "2927/2927 [==============================] - 7s 2ms/step - loss: 14565.0771 - mean_absolute_error: 14565.0771 - val_loss: 14787.7305 - val_mean_absolute_error: 14787.7305\n",
            "Epoch 15/15\n",
            "2927/2927 [==============================] - 6s 2ms/step - loss: 14508.1992 - mean_absolute_error: 14508.1992 - val_loss: 14730.3389 - val_mean_absolute_error: 14730.3389\n",
            "Test-MAE: [15323.4638671875, 15262.1796875, 15203.39453125, 15144.7421875, 15086.166015625, 15027.6826171875, 14969.2412109375, 14910.88671875, 14852.685546875, 14794.7919921875, 14737.0595703125, 14679.44921875, 14622.201171875, 14565.0771484375, 14508.19921875]\n"
          ]
        }
      ]
    },
    {
      "cell_type": "code",
      "source": [
        "model = models.Sequential()\n",
        "\n",
        "model.add(layers.Dense(13, kernel_initializer='uniform',activation = \"sigmoid\"))\n",
        "\n",
        "model.add(layers.Dense(20, kernel_initializer='uniform',activation = \"sigmoid\"))\n",
        "\n",
        "model.add(layers.Dense(1, activation = 'linear'))\n",
        "\n",
        "model.compile(\n",
        " optimizer = \"RMSprop\",\n",
        " loss = \"mean_absolute_error\",\n",
        " metrics = [\"mean_absolute_error\"]\n",
        ")\n",
        "results = model.fit(\n",
        " X_train, y_train,\n",
        " epochs= 15,\n",
        " batch_size = 1,\n",
        " validation_data = (X_test, y_test)\n",
        ")\n",
        "print(\"Test-MAE:\", results.history[\"mean_absolute_error\"])"
      ],
      "metadata": {
        "id": "aUpS4DPw-Oup",
        "colab": {
          "base_uri": "https://localhost:8080/"
        },
        "outputId": "453dd113-9478-42be-88e3-dcc8ee87c381"
      },
      "execution_count": null,
      "outputs": [
        {
          "output_type": "stream",
          "name": "stdout",
          "text": [
            "Epoch 1/15\n",
            "2927/2927 [==============================] - 6s 2ms/step - loss: 15328.8428 - mean_absolute_error: 15328.8428 - val_loss: 15554.8535 - val_mean_absolute_error: 15554.8535\n",
            "Epoch 2/15\n",
            "2927/2927 [==============================] - 6s 2ms/step - loss: 15269.9580 - mean_absolute_error: 15269.9580 - val_loss: 15495.8242 - val_mean_absolute_error: 15495.8242\n",
            "Epoch 3/15\n",
            "2927/2927 [==============================] - 6s 2ms/step - loss: 15211.3320 - mean_absolute_error: 15211.3320 - val_loss: 15437.0449 - val_mean_absolute_error: 15437.0449\n",
            "Epoch 4/15\n",
            "2927/2927 [==============================] - 6s 2ms/step - loss: 15152.6455 - mean_absolute_error: 15152.6455 - val_loss: 15378.2988 - val_mean_absolute_error: 15378.2988\n",
            "Epoch 5/15\n",
            "2927/2927 [==============================] - 6s 2ms/step - loss: 15094.0225 - mean_absolute_error: 15094.0225 - val_loss: 15319.5986 - val_mean_absolute_error: 15319.5986\n",
            "Epoch 6/15\n",
            "2927/2927 [==============================] - 5s 2ms/step - loss: 15035.5215 - mean_absolute_error: 15035.5215 - val_loss: 15260.9590 - val_mean_absolute_error: 15260.9590\n",
            "Epoch 7/15\n",
            "2927/2927 [==============================] - 6s 2ms/step - loss: 14977.1133 - mean_absolute_error: 14977.1133 - val_loss: 15202.4727 - val_mean_absolute_error: 15202.4727\n",
            "Epoch 8/15\n",
            "2927/2927 [==============================] - 6s 2ms/step - loss: 14918.7305 - mean_absolute_error: 14918.7305 - val_loss: 15143.8564 - val_mean_absolute_error: 15143.8564\n",
            "Epoch 9/15\n",
            "2927/2927 [==============================] - 6s 2ms/step - loss: 14860.5781 - mean_absolute_error: 14860.5781 - val_loss: 15085.4697 - val_mean_absolute_error: 15085.4697\n",
            "Epoch 10/15\n",
            "2927/2927 [==============================] - 5s 2ms/step - loss: 14802.6953 - mean_absolute_error: 14802.6953 - val_loss: 15027.1787 - val_mean_absolute_error: 15027.1787\n",
            "Epoch 11/15\n",
            "2927/2927 [==============================] - 5s 2ms/step - loss: 14744.9238 - mean_absolute_error: 14744.9238 - val_loss: 14968.9014 - val_mean_absolute_error: 14968.9014\n",
            "Epoch 12/15\n",
            "2927/2927 [==============================] - 6s 2ms/step - loss: 14687.2871 - mean_absolute_error: 14687.2871 - val_loss: 14911.0176 - val_mean_absolute_error: 14911.0176\n",
            "Epoch 13/15\n",
            "2927/2927 [==============================] - 5s 2ms/step - loss: 14629.9434 - mean_absolute_error: 14629.9434 - val_loss: 14853.1816 - val_mean_absolute_error: 14853.1816\n",
            "Epoch 14/15\n",
            "2927/2927 [==============================] - 6s 2ms/step - loss: 14572.8154 - mean_absolute_error: 14572.8154 - val_loss: 14795.5742 - val_mean_absolute_error: 14795.5742\n",
            "Epoch 15/15\n",
            "2927/2927 [==============================] - 5s 2ms/step - loss: 14515.9033 - mean_absolute_error: 14515.9033 - val_loss: 14738.1260 - val_mean_absolute_error: 14738.1260\n",
            "Test-MAE: [15328.8427734375, 15269.9580078125, 15211.33203125, 15152.6455078125, 15094.0224609375, 15035.521484375, 14977.11328125, 14918.73046875, 14860.578125, 14802.6953125, 14744.923828125, 14687.287109375, 14629.943359375, 14572.8154296875, 14515.9033203125]\n"
          ]
        }
      ]
    },
    {
      "cell_type": "code",
      "source": [
        "model = LinearRegression()\n",
        "linReg.fit(X_train, y_train)\n",
        "y_train_pred = linReg.predict(X_train)\n",
        "y_test_pred = linReg.predict(X_test)"
      ],
      "metadata": {
        "id": "cJEqHpPL-QSp"
      },
      "execution_count": null,
      "outputs": []
    },
    {
      "cell_type": "code",
      "source": [
        "print('MAE train: {:.3f}, test: {:.3f}'.format(\n",
        "        mean_absolute_error(y_train, y_train_pred),\n",
        "        mean_absolute_error(y_test, y_test_pred)))\n",
        "print('MSE train: {:.3f}, test: {:.3f}'.format(\n",
        "        mean_squared_error(y_train, y_train_pred),\n",
        "        mean_squared_error(y_test, y_test_pred)))"
      ],
      "metadata": {
        "id": "k7Q6t5By-R-r",
        "colab": {
          "base_uri": "https://localhost:8080/"
        },
        "outputId": "4634c927-ef8c-4dd3-9cef-bfde5eb9ed13"
      },
      "execution_count": null,
      "outputs": [
        {
          "output_type": "stream",
          "name": "stdout",
          "text": [
            "MAE train: 4824.250, test: 4608.361\n",
            "MSE train: 48083874.887, test: 42887112.439\n"
          ]
        }
      ]
    },
    {
      "cell_type": "code",
      "source": [
        "model = models.Sequential()\n",
        "\n",
        "model.add(layers.Dense(13, kernel_initializer='uniform',activation = \"selu\"))\n",
        "\n",
        "model.add(layers.Dense(30, kernel_initializer='uniform',activation = \"selu\"))\n",
        "\n",
        "model.add(layers.Dense(1, activation = 'linear'))\n",
        "\n",
        "model.compile(\n",
        " optimizer = \"RMSprop\",\n",
        " loss = \"mean_absolute_error\",\n",
        " metrics = [\"mean_absolute_error\"]\n",
        ")\n",
        "results = model.fit(\n",
        " X_train, y_train,\n",
        " epochs= 15,\n",
        " batch_size = 1,\n",
        " validation_data = (X_test, y_test)\n",
        ")\n",
        "print(\"Test-MAE:\", results.history[\"mean_absolute_error\"])"
      ],
      "metadata": {
        "id": "MnkR7JNM-T0B",
        "colab": {
          "base_uri": "https://localhost:8080/"
        },
        "outputId": "3f1cf6ec-aaa5-4710-93bf-1956d8b004c8"
      },
      "execution_count": null,
      "outputs": [
        {
          "output_type": "stream",
          "name": "stdout",
          "text": [
            "Epoch 1/15\n",
            "2927/2927 [==============================] - 9s 3ms/step - loss: 11514.1348 - mean_absolute_error: 11514.1348 - val_loss: 9991.5947 - val_mean_absolute_error: 9991.5947\n",
            "Epoch 2/15\n",
            "2927/2927 [==============================] - 6s 2ms/step - loss: 7425.4941 - mean_absolute_error: 7425.4941 - val_loss: 6077.3574 - val_mean_absolute_error: 6077.3574\n",
            "Epoch 3/15\n",
            "2927/2927 [==============================] - 6s 2ms/step - loss: 6267.4648 - mean_absolute_error: 6267.4648 - val_loss: 6183.0142 - val_mean_absolute_error: 6183.0142\n",
            "Epoch 4/15\n",
            "2927/2927 [==============================] - 6s 2ms/step - loss: 6254.3799 - mean_absolute_error: 6254.3799 - val_loss: 5966.9673 - val_mean_absolute_error: 5966.9673\n",
            "Epoch 5/15\n",
            "2927/2927 [==============================] - 7s 2ms/step - loss: 6224.7031 - mean_absolute_error: 6224.7031 - val_loss: 6599.6196 - val_mean_absolute_error: 6599.6196\n",
            "Epoch 6/15\n",
            "2927/2927 [==============================] - 6s 2ms/step - loss: 6177.9004 - mean_absolute_error: 6177.9004 - val_loss: 6052.1128 - val_mean_absolute_error: 6052.1128\n",
            "Epoch 7/15\n",
            "2927/2927 [==============================] - 6s 2ms/step - loss: 6210.0527 - mean_absolute_error: 6210.0527 - val_loss: 7154.5259 - val_mean_absolute_error: 7154.5259\n",
            "Epoch 8/15\n",
            "2927/2927 [==============================] - 6s 2ms/step - loss: 6215.9951 - mean_absolute_error: 6215.9951 - val_loss: 5716.9141 - val_mean_absolute_error: 5716.9141\n",
            "Epoch 9/15\n",
            "2927/2927 [==============================] - 6s 2ms/step - loss: 6195.6274 - mean_absolute_error: 6195.6274 - val_loss: 5798.0674 - val_mean_absolute_error: 5798.0674\n",
            "Epoch 10/15\n",
            "2927/2927 [==============================] - 6s 2ms/step - loss: 6102.1953 - mean_absolute_error: 6102.1953 - val_loss: 5670.7769 - val_mean_absolute_error: 5670.7769\n",
            "Epoch 11/15\n",
            "2927/2927 [==============================] - 5s 2ms/step - loss: 6132.2476 - mean_absolute_error: 6132.2476 - val_loss: 6599.4502 - val_mean_absolute_error: 6599.4502\n",
            "Epoch 12/15\n",
            "2927/2927 [==============================] - 7s 2ms/step - loss: 6154.8867 - mean_absolute_error: 6154.8867 - val_loss: 6326.3008 - val_mean_absolute_error: 6326.3008\n",
            "Epoch 13/15\n",
            "2927/2927 [==============================] - 5s 2ms/step - loss: 6131.4282 - mean_absolute_error: 6131.4282 - val_loss: 6990.8481 - val_mean_absolute_error: 6990.8481\n",
            "Epoch 14/15\n",
            "2927/2927 [==============================] - 7s 2ms/step - loss: 6139.8506 - mean_absolute_error: 6139.8506 - val_loss: 7173.5854 - val_mean_absolute_error: 7173.5854\n",
            "Epoch 15/15\n",
            "2927/2927 [==============================] - 6s 2ms/step - loss: 6092.5747 - mean_absolute_error: 6092.5747 - val_loss: 6126.1416 - val_mean_absolute_error: 6126.1416\n",
            "Test-MAE: [11514.134765625, 7425.494140625, 6267.46484375, 6254.3798828125, 6224.703125, 6177.900390625, 6210.052734375, 6215.9951171875, 6195.62744140625, 6102.1953125, 6132.24755859375, 6154.88671875, 6131.42822265625, 6139.8505859375, 6092.57470703125]\n"
          ]
        }
      ]
    },
    {
      "cell_type": "code",
      "source": [
        "model = models.Sequential()\n",
        "\n",
        "model.add(layers.Dense(13, kernel_initializer='uniform',activation = \"sigmoid\"))\n",
        "\n",
        "model.add(layers.Dense(20, kernel_initializer='uniform',activation = \"sigmoid\"))\n",
        "\n",
        "model.add(layers.Dense(1, activation = 'linear'))\n",
        "\n",
        "model.compile(\n",
        " optimizer = \"SGD\",\n",
        " loss = \"mean_absolute_error\",\n",
        " metrics = [\"mean_absolute_error\"]\n",
        ")\n",
        "results = model.fit(\n",
        " X_train, y_train,\n",
        " epochs= 10,\n",
        " batch_size = 1,\n",
        " validation_data = (X_test, y_test)\n",
        ")\n",
        "print(\"Test-MAE:\", results.history[\"mean_absolute_error\"])"
      ],
      "metadata": {
        "id": "1gaz4qbj-V1z",
        "colab": {
          "base_uri": "https://localhost:8080/"
        },
        "outputId": "1db31860-f2db-441f-e977-4b46d3ccfda1"
      },
      "execution_count": null,
      "outputs": [
        {
          "output_type": "stream",
          "name": "stdout",
          "text": [
            "Epoch 1/10\n",
            "2927/2927 [==============================] - 7s 2ms/step - loss: 15084.1035 - mean_absolute_error: 15084.1035 - val_loss: 15046.9482 - val_mean_absolute_error: 15046.9482\n",
            "Epoch 2/10\n",
            "2927/2927 [==============================] - 5s 2ms/step - loss: 14507.6445 - mean_absolute_error: 14507.6445 - val_loss: 14474.7734 - val_mean_absolute_error: 14474.7734\n",
            "Epoch 3/10\n",
            "2927/2927 [==============================] - 7s 2ms/step - loss: 13960.7061 - mean_absolute_error: 13960.7061 - val_loss: 13942.2539 - val_mean_absolute_error: 13942.2539\n",
            "Epoch 4/10\n",
            "2927/2927 [==============================] - 5s 2ms/step - loss: 13463.0889 - mean_absolute_error: 13463.0889 - val_loss: 13452.5605 - val_mean_absolute_error: 13452.5605\n",
            "Epoch 5/10\n",
            "2927/2927 [==============================] - 5s 2ms/step - loss: 13014.2080 - mean_absolute_error: 13014.2080 - val_loss: 13001.6982 - val_mean_absolute_error: 13001.6982\n",
            "Epoch 6/10\n",
            "2927/2927 [==============================] - 6s 2ms/step - loss: 12609.7734 - mean_absolute_error: 12609.7734 - val_loss: 12600.6709 - val_mean_absolute_error: 12600.6709\n",
            "Epoch 7/10\n",
            "2927/2927 [==============================] - 5s 2ms/step - loss: 12245.1592 - mean_absolute_error: 12245.1592 - val_loss: 12238.8633 - val_mean_absolute_error: 12238.8633\n",
            "Epoch 8/10\n",
            "2927/2927 [==============================] - 6s 2ms/step - loss: 11916.5039 - mean_absolute_error: 11916.5039 - val_loss: 11909.9580 - val_mean_absolute_error: 11909.9580\n",
            "Epoch 9/10\n",
            "2927/2927 [==============================] - 5s 2ms/step - loss: 11620.2129 - mean_absolute_error: 11620.2129 - val_loss: 11609.7939 - val_mean_absolute_error: 11609.7939\n",
            "Epoch 10/10\n",
            "2927/2927 [==============================] - 6s 2ms/step - loss: 11348.0811 - mean_absolute_error: 11348.0811 - val_loss: 11334.7568 - val_mean_absolute_error: 11334.7568\n",
            "Test-MAE: [15084.103515625, 14507.64453125, 13960.7060546875, 13463.0888671875, 13014.2080078125, 12609.7734375, 12245.1591796875, 11916.50390625, 11620.212890625, 11348.0810546875]\n"
          ]
        }
      ]
    },
    {
      "cell_type": "code",
      "source": [
        "model = models.Sequential()\n",
        "\n",
        "model.add(layers.Dense(13, kernel_initializer='uniform',activation = \"sigmoid\"))\n",
        "\n",
        "model.add(layers.Dense(15, kernel_initializer='uniform',activation = \"sigmoid\"))\n",
        "\n",
        "model.add(layers.Dense(10, kernel_initializer='uniform',activation = \"sigmoid\"))\n",
        "\n",
        "model.add(layers.Dense(1, kernel_initializer='uniform',activation = 'relu'))\n",
        "\n",
        "model.compile(\n",
        " optimizer = \"adam\",\n",
        " loss = \"mean_absolute_error\",\n",
        " metrics = [\"mean_absolute_error\"]\n",
        ")\n",
        "results = model.fit(\n",
        " X_train, y_train,\n",
        " epochs= 10,\n",
        " batch_size = 1,\n",
        " validation_data = (X_test, y_test)\n",
        ")\n",
        "print(\"Test-MAE:\", results.history[\"mean_absolute_error\"])"
      ],
      "metadata": {
        "id": "vpMhVN8g-YGB",
        "colab": {
          "base_uri": "https://localhost:8080/"
        },
        "outputId": "46c29c46-3dac-4714-f5fc-793b4180cb17"
      },
      "execution_count": null,
      "outputs": [
        {
          "output_type": "stream",
          "name": "stdout",
          "text": [
            "Epoch 1/10\n",
            "2927/2927 [==============================] - 9s 3ms/step - loss: 15357.3320 - mean_absolute_error: 15357.3320 - val_loss: 15612.9512 - val_mean_absolute_error: 15612.9512\n",
            "Epoch 2/10\n",
            "2927/2927 [==============================] - 6s 2ms/step - loss: 15357.3232 - mean_absolute_error: 15357.3232 - val_loss: 15612.9512 - val_mean_absolute_error: 15612.9512\n",
            "Epoch 3/10\n",
            "2927/2927 [==============================] - 7s 2ms/step - loss: 15357.3281 - mean_absolute_error: 15357.3281 - val_loss: 15612.9512 - val_mean_absolute_error: 15612.9512\n",
            "Epoch 4/10\n",
            "2927/2927 [==============================] - 6s 2ms/step - loss: 15357.3242 - mean_absolute_error: 15357.3242 - val_loss: 15612.9512 - val_mean_absolute_error: 15612.9512\n",
            "Epoch 5/10\n",
            "2927/2927 [==============================] - 7s 2ms/step - loss: 15357.3252 - mean_absolute_error: 15357.3252 - val_loss: 15612.9512 - val_mean_absolute_error: 15612.9512\n",
            "Epoch 6/10\n",
            "2927/2927 [==============================] - 6s 2ms/step - loss: 15357.3115 - mean_absolute_error: 15357.3115 - val_loss: 15612.9512 - val_mean_absolute_error: 15612.9512\n",
            "Epoch 7/10\n",
            "2927/2927 [==============================] - 7s 3ms/step - loss: 15357.3271 - mean_absolute_error: 15357.3271 - val_loss: 15612.9512 - val_mean_absolute_error: 15612.9512\n",
            "Epoch 8/10\n",
            "2927/2927 [==============================] - 6s 2ms/step - loss: 15357.3135 - mean_absolute_error: 15357.3135 - val_loss: 15612.9512 - val_mean_absolute_error: 15612.9512\n",
            "Epoch 9/10\n",
            "2927/2927 [==============================] - 7s 2ms/step - loss: 15357.3184 - mean_absolute_error: 15357.3184 - val_loss: 15612.9512 - val_mean_absolute_error: 15612.9512\n",
            "Epoch 10/10\n",
            "2927/2927 [==============================] - 6s 2ms/step - loss: 15357.3281 - mean_absolute_error: 15357.3281 - val_loss: 15612.9512 - val_mean_absolute_error: 15612.9512\n",
            "Test-MAE: [15357.33203125, 15357.3232421875, 15357.328125, 15357.32421875, 15357.3251953125, 15357.3115234375, 15357.3271484375, 15357.3134765625, 15357.318359375, 15357.328125]\n"
          ]
        }
      ]
    },
    {
      "cell_type": "code",
      "source": [
        "model = models.Sequential()\n",
        "\n",
        "model.add(layers.Dense(13, kernel_initializer='uniform',activation = \"softmax\"))\n",
        "\n",
        "model.add(layers.Dense(15, kernel_initializer='uniform',activation = \"sigmoid\"))\n",
        "\n",
        "model.add(layers.Dense(10, kernel_initializer='uniform',activation = \"sigmoid\"))\n",
        "\n",
        "model.add(layers.Dense(1, kernel_initializer='uniform',activation = 'linear'))\n",
        "\n",
        "model.compile(\n",
        " optimizer = \"RMSprop\",\n",
        " loss = \"mean_absolute_error\",\n",
        " metrics = [\"mean_absolute_error\"]\n",
        ")\n",
        "results = model.fit(\n",
        " X_train, y_train,\n",
        " epochs= 10,\n",
        " batch_size = 2,\n",
        " validation_data = (X_test, y_test)\n",
        ")\n",
        "print(\"Test-MAE:\", results.history[\"mean_absolute_error\"])"
      ],
      "metadata": {
        "id": "KLy0XyxO-bAF",
        "colab": {
          "base_uri": "https://localhost:8080/"
        },
        "outputId": "0d7ff179-7ba6-4e99-8a1c-964b083de223"
      },
      "execution_count": null,
      "outputs": [
        {
          "output_type": "stream",
          "name": "stdout",
          "text": [
            "Epoch 1/10\n",
            "1464/1464 [==============================] - 4s 2ms/step - loss: 15349.1807 - mean_absolute_error: 15349.1807 - val_loss: 15597.0234 - val_mean_absolute_error: 15597.0234\n",
            "Epoch 2/10\n",
            "1464/1464 [==============================] - 4s 3ms/step - loss: 15333.5488 - mean_absolute_error: 15333.5488 - val_loss: 15581.4121 - val_mean_absolute_error: 15581.4121\n",
            "Epoch 3/10\n",
            "1464/1464 [==============================] - 3s 2ms/step - loss: 15317.9922 - mean_absolute_error: 15317.9922 - val_loss: 15565.7354 - val_mean_absolute_error: 15565.7354\n",
            "Epoch 4/10\n",
            "1464/1464 [==============================] - 4s 3ms/step - loss: 15302.4668 - mean_absolute_error: 15302.4668 - val_loss: 15550.0811 - val_mean_absolute_error: 15550.0811\n",
            "Epoch 5/10\n",
            "1464/1464 [==============================] - 3s 2ms/step - loss: 15286.9404 - mean_absolute_error: 15286.9404 - val_loss: 15534.4961 - val_mean_absolute_error: 15534.4961\n",
            "Epoch 6/10\n",
            "1464/1464 [==============================] - 4s 3ms/step - loss: 15271.4072 - mean_absolute_error: 15271.4072 - val_loss: 15518.9658 - val_mean_absolute_error: 15518.9658\n",
            "Epoch 7/10\n",
            "1464/1464 [==============================] - 3s 2ms/step - loss: 15255.8604 - mean_absolute_error: 15255.8604 - val_loss: 15503.3154 - val_mean_absolute_error: 15503.3154\n",
            "Epoch 8/10\n",
            "1464/1464 [==============================] - 3s 2ms/step - loss: 15240.3320 - mean_absolute_error: 15240.3320 - val_loss: 15487.7559 - val_mean_absolute_error: 15487.7559\n",
            "Epoch 9/10\n",
            "1464/1464 [==============================] - 3s 2ms/step - loss: 15224.8223 - mean_absolute_error: 15224.8223 - val_loss: 15472.1016 - val_mean_absolute_error: 15472.1016\n",
            "Epoch 10/10\n",
            "1464/1464 [==============================] - 4s 2ms/step - loss: 15209.2734 - mean_absolute_error: 15209.2734 - val_loss: 15456.5410 - val_mean_absolute_error: 15456.5410\n",
            "Test-MAE: [15349.1806640625, 15333.548828125, 15317.9921875, 15302.466796875, 15286.9404296875, 15271.4072265625, 15255.8603515625, 15240.33203125, 15224.822265625, 15209.2734375]\n"
          ]
        }
      ]
    },
    {
      "cell_type": "code",
      "source": [
        "model = models.Sequential()\n",
        "\n",
        "model.add(layers.Dense(13, kernel_initializer='uniform',activation = \"softmax\"))\n",
        "\n",
        "model.add(layers.Dense(10, kernel_initializer='uniform',activation = \"sigmoid\"))\n",
        "\n",
        "model.add(layers.Dense(10, kernel_initializer='uniform',activation = \"sigmoid\"))\n",
        "\n",
        "model.add(layers.Dense(1, kernel_initializer='uniform',activation = 'linear'))\n",
        "\n",
        "model.compile(\n",
        " optimizer = \"SGD\",\n",
        " loss = \"mean_absolute_error\",\n",
        " metrics = [\"mean_absolute_error\"]\n",
        ")\n",
        "results = model.fit(\n",
        " X_train, y_train,\n",
        " epochs= 10,\n",
        " batch_size = 20,\n",
        " validation_data = (X_test, y_test)\n",
        ")\n",
        "print(\"Test-MAE:\", results.history[\"mean_absolute_error\"])"
      ],
      "metadata": {
        "id": "W_ITMdRF-ihJ",
        "colab": {
          "base_uri": "https://localhost:8080/"
        },
        "outputId": "ff1f3fcb-d6d0-4aa7-c9e6-23b200c76049"
      },
      "execution_count": null,
      "outputs": [
        {
          "output_type": "stream",
          "name": "stdout",
          "text": [
            "Epoch 1/10\n",
            "147/147 [==============================] - 1s 3ms/step - loss: 15354.4971 - mean_absolute_error: 15354.4971 - val_loss: 15606.8496 - val_mean_absolute_error: 15606.8496\n",
            "Epoch 2/10\n",
            "147/147 [==============================] - 0s 2ms/step - loss: 15345.7207 - mean_absolute_error: 15345.7217 - val_loss: 15594.6133 - val_mean_absolute_error: 15594.6133\n",
            "Epoch 3/10\n",
            "147/147 [==============================] - 0s 2ms/step - loss: 15331.2568 - mean_absolute_error: 15331.2568 - val_loss: 15578.8447 - val_mean_absolute_error: 15578.8447\n",
            "Epoch 4/10\n",
            "147/147 [==============================] - 0s 2ms/step - loss: 15315.5625 - mean_absolute_error: 15315.5625 - val_loss: 15563.1484 - val_mean_absolute_error: 15563.1484\n",
            "Epoch 5/10\n",
            "147/147 [==============================] - 0s 2ms/step - loss: 15300.0059 - mean_absolute_error: 15300.0059 - val_loss: 15547.5889 - val_mean_absolute_error: 15547.5889\n",
            "Epoch 6/10\n",
            "147/147 [==============================] - 0s 2ms/step - loss: 15284.5332 - mean_absolute_error: 15284.5332 - val_loss: 15532.0586 - val_mean_absolute_error: 15532.0586\n",
            "Epoch 7/10\n",
            "147/147 [==============================] - 0s 2ms/step - loss: 15269.0771 - mean_absolute_error: 15269.0771 - val_loss: 15516.5488 - val_mean_absolute_error: 15516.5488\n",
            "Epoch 8/10\n",
            "147/147 [==============================] - 0s 2ms/step - loss: 15253.6396 - mean_absolute_error: 15253.6396 - val_loss: 15501.0469 - val_mean_absolute_error: 15501.0469\n",
            "Epoch 9/10\n",
            "147/147 [==============================] - 0s 2ms/step - loss: 15238.2031 - mean_absolute_error: 15238.2031 - val_loss: 15485.5479 - val_mean_absolute_error: 15485.5479\n",
            "Epoch 10/10\n",
            "147/147 [==============================] - 0s 2ms/step - loss: 15222.7725 - mean_absolute_error: 15222.7725 - val_loss: 15470.0508 - val_mean_absolute_error: 15470.0508\n",
            "Test-MAE: [15354.4970703125, 15345.7216796875, 15331.2568359375, 15315.5625, 15300.005859375, 15284.533203125, 15269.0771484375, 15253.6396484375, 15238.203125, 15222.7724609375]\n"
          ]
        }
      ]
    },
    {
      "cell_type": "code",
      "source": [
        "model = models.Sequential()\n",
        "\n",
        "model.add(layers.Dense(13, kernel_initializer='uniform',activation = \"selu\"))\n",
        "\n",
        "model.add(layers.Dense(30, kernel_initializer='uniform',activation = \"selu\"))\n",
        "\n",
        "model.add(layers.Dense(1, activation = 'linear'))\n",
        "\n",
        "model.compile(\n",
        " optimizer = \"adam\",\n",
        " loss = \"mean_absolute_error\",\n",
        " metrics = [\"mean_absolute_error\"]\n",
        ")\n",
        "results = model.fit(\n",
        " X_train, y_train,\n",
        " epochs= 15,\n",
        " batch_size = 1,\n",
        " validation_data = (X_test, y_test)\n",
        ")\n",
        "print(\"Test-MAE:\", results.history[\"mean_absolute_error\"])"
      ],
      "metadata": {
        "colab": {
          "base_uri": "https://localhost:8080/"
        },
        "outputId": "fe16747b-157f-4251-9c03-01bfc5c1b7d9",
        "id": "RAohqox7So_N"
      },
      "execution_count": null,
      "outputs": [
        {
          "output_type": "stream",
          "name": "stdout",
          "text": [
            "Epoch 1/15\n",
            "2927/2927 [==============================] - 7s 2ms/step - loss: 11564.3047 - mean_absolute_error: 11564.3047 - val_loss: 9688.9736 - val_mean_absolute_error: 9688.9736\n",
            "Epoch 2/15\n",
            "2927/2927 [==============================] - 5s 2ms/step - loss: 7080.1641 - mean_absolute_error: 7080.1641 - val_loss: 6065.8804 - val_mean_absolute_error: 6065.8804\n",
            "Epoch 3/15\n",
            "2927/2927 [==============================] - 6s 2ms/step - loss: 6161.8506 - mean_absolute_error: 6161.8506 - val_loss: 6158.4194 - val_mean_absolute_error: 6158.4194\n",
            "Epoch 4/15\n",
            "2927/2927 [==============================] - 6s 2ms/step - loss: 6045.8340 - mean_absolute_error: 6045.8340 - val_loss: 6067.7314 - val_mean_absolute_error: 6067.7314\n",
            "Epoch 5/15\n",
            "2927/2927 [==============================] - 7s 2ms/step - loss: 5929.3242 - mean_absolute_error: 5929.3242 - val_loss: 5766.9722 - val_mean_absolute_error: 5766.9722\n",
            "Epoch 6/15\n",
            "2927/2927 [==============================] - 5s 2ms/step - loss: 5832.4702 - mean_absolute_error: 5832.4702 - val_loss: 5683.0581 - val_mean_absolute_error: 5683.0581\n",
            "Epoch 7/15\n",
            "2927/2927 [==============================] - 6s 2ms/step - loss: 5846.8809 - mean_absolute_error: 5846.8809 - val_loss: 5355.9141 - val_mean_absolute_error: 5355.9141\n",
            "Epoch 8/15\n",
            "2927/2927 [==============================] - 6s 2ms/step - loss: 5839.5591 - mean_absolute_error: 5839.5591 - val_loss: 5459.5151 - val_mean_absolute_error: 5459.5151\n",
            "Epoch 9/15\n",
            "2927/2927 [==============================] - 5s 2ms/step - loss: 5789.8032 - mean_absolute_error: 5789.8032 - val_loss: 5631.5767 - val_mean_absolute_error: 5631.5767\n",
            "Epoch 10/15\n",
            "2927/2927 [==============================] - 7s 2ms/step - loss: 5782.4688 - mean_absolute_error: 5782.4688 - val_loss: 5463.3203 - val_mean_absolute_error: 5463.3203\n",
            "Epoch 11/15\n",
            "2927/2927 [==============================] - 6s 2ms/step - loss: 5744.7134 - mean_absolute_error: 5744.7134 - val_loss: 5351.5542 - val_mean_absolute_error: 5351.5542\n",
            "Epoch 12/15\n",
            "2927/2927 [==============================] - 7s 2ms/step - loss: 5775.4814 - mean_absolute_error: 5775.4814 - val_loss: 6336.6079 - val_mean_absolute_error: 6336.6079\n",
            "Epoch 13/15\n",
            "2927/2927 [==============================] - 7s 3ms/step - loss: 5794.2002 - mean_absolute_error: 5794.2002 - val_loss: 5429.7896 - val_mean_absolute_error: 5429.7896\n",
            "Epoch 14/15\n",
            "2927/2927 [==============================] - 7s 2ms/step - loss: 5817.3784 - mean_absolute_error: 5817.3784 - val_loss: 5288.6055 - val_mean_absolute_error: 5288.6055\n",
            "Epoch 15/15\n",
            "2927/2927 [==============================] - 6s 2ms/step - loss: 5764.5132 - mean_absolute_error: 5764.5132 - val_loss: 5673.6440 - val_mean_absolute_error: 5673.6440\n",
            "Test-MAE: [11564.3046875, 7080.1640625, 6161.8505859375, 6045.833984375, 5929.32421875, 5832.47021484375, 5846.880859375, 5839.55908203125, 5789.80322265625, 5782.46875, 5744.71337890625, 5775.4814453125, 5794.2001953125, 5817.37841796875, 5764.51318359375]\n"
          ]
        }
      ]
    },
    {
      "cell_type": "code",
      "source": [
        "model = LinearRegression()\n",
        "linReg.fit(X_train, y_train)\n",
        "y_train_pred = linReg.predict(X_train)\n",
        "y_test_pred = linReg.predict(X_test)"
      ],
      "metadata": {
        "id": "8q1SqlIlTSWA"
      },
      "execution_count": null,
      "outputs": []
    },
    {
      "cell_type": "code",
      "source": [
        "print('MAE train: {:.3f}, test: {:.3f}'.format(\n",
        "        mean_absolute_error(y_train, y_train_pred),\n",
        "        mean_absolute_error(y_test, y_test_pred)))\n",
        "print('MSE train: {:.3f}, test: {:.3f}'.format(\n",
        "        mean_squared_error(y_train, y_train_pred),\n",
        "        mean_squared_error(y_test, y_test_pred)))"
      ],
      "metadata": {
        "colab": {
          "base_uri": "https://localhost:8080/"
        },
        "outputId": "cf9752bc-e40b-473d-84db-2d602ea2c7e5",
        "id": "fjBQSw8mTSWG"
      },
      "execution_count": null,
      "outputs": [
        {
          "output_type": "stream",
          "name": "stdout",
          "text": [
            "MAE train: 4824.250, test: 4608.361\n",
            "MSE train: 48083874.887, test: 42887112.439\n"
          ]
        }
      ]
    },
    {
      "cell_type": "code",
      "source": [
        "model = models.Sequential()\n",
        "\n",
        "model.add(layers.Dense(2, kernel_initializer='uniform',activation = \"softmax\"))\n",
        "\n",
        "model.add(layers.Dense(5, kernel_initializer='uniform',activation = \"sigmoid\"))\n",
        "\n",
        "model.add(layers.Dense(1, activation = 'linear'))\n",
        "\n",
        "model.compile(\n",
        " optimizer = \"RMSprop\",\n",
        " loss = \"mean_squared_error\",\n",
        " metrics = [\"mean_absolute_error\", \"mean_squared_error\"]\n",
        ")\n",
        "results = model.fit(\n",
        " X_train, y_train,\n",
        " epochs= 15,\n",
        " batch_size = 1,\n",
        " validation_data = (X_test, y_test)\n",
        ")\n",
        "print(\"Test-MAE:\", results.history[\"mean_absolute_error\"])\n",
        "print(\"Test-MSE:\", results.history[\"mean_squared_error\"])"
      ],
      "metadata": {
        "colab": {
          "base_uri": "https://localhost:8080/"
        },
        "id": "S9cbeAv9XI2d",
        "outputId": "be542f88-3ab1-4581-a6a8-d45391a8fafd"
      },
      "execution_count": null,
      "outputs": [
        {
          "output_type": "stream",
          "name": "stdout",
          "text": [
            "Epoch 1/15\n",
            "2927/2927 [==============================] - 9s 3ms/step - loss: 352583712.0000 - mean_absolute_error: 15350.5947 - mean_squared_error: 352583712.0000 - val_loss: 360225952.0000 - val_mean_absolute_error: 15598.9180 - val_mean_squared_error: 360225952.0000\n",
            "Epoch 2/15\n",
            "2927/2927 [==============================] - 6s 2ms/step - loss: 352127424.0000 - mean_absolute_error: 15336.0137 - mean_squared_error: 352127424.0000 - val_loss: 359771040.0000 - val_mean_absolute_error: 15584.4824 - val_mean_squared_error: 359771040.0000\n",
            "Epoch 3/15\n",
            "2927/2927 [==============================] - 6s 2ms/step - loss: 351687488.0000 - mean_absolute_error: 15322.0078 - mean_squared_error: 351687488.0000 - val_loss: 359326720.0000 - val_mean_absolute_error: 15570.6191 - val_mean_squared_error: 359326720.0000\n",
            "Epoch 4/15\n",
            "2927/2927 [==============================] - 6s 2ms/step - loss: 351251264.0000 - mean_absolute_error: 15308.0625 - mean_squared_error: 351251264.0000 - val_loss: 358884032.0000 - val_mean_absolute_error: 15556.6191 - val_mean_squared_error: 358884032.0000\n",
            "Epoch 5/15\n",
            "2927/2927 [==============================] - 5s 2ms/step - loss: 350817760.0000 - mean_absolute_error: 15294.1719 - mean_squared_error: 350817760.0000 - val_loss: 358441152.0000 - val_mean_absolute_error: 15542.5420 - val_mean_squared_error: 358441152.0000\n",
            "Epoch 6/15\n",
            "2927/2927 [==============================] - 6s 2ms/step - loss: 350383680.0000 - mean_absolute_error: 15280.2578 - mean_squared_error: 350383680.0000 - val_loss: 358000160.0000 - val_mean_absolute_error: 15528.5576 - val_mean_squared_error: 358000160.0000\n",
            "Epoch 7/15\n",
            "2927/2927 [==============================] - 6s 2ms/step - loss: 349949952.0000 - mean_absolute_error: 15266.4053 - mean_squared_error: 349949952.0000 - val_loss: 357559040.0000 - val_mean_absolute_error: 15514.7334 - val_mean_squared_error: 357559040.0000\n",
            "Epoch 8/15\n",
            "2927/2927 [==============================] - 6s 2ms/step - loss: 349515712.0000 - mean_absolute_error: 15252.5176 - mean_squared_error: 349515712.0000 - val_loss: 357117888.0000 - val_mean_absolute_error: 15500.9082 - val_mean_squared_error: 357117888.0000\n",
            "Epoch 9/15\n",
            "2927/2927 [==============================] - 5s 2ms/step - loss: 349083296.0000 - mean_absolute_error: 15238.6416 - mean_squared_error: 349083296.0000 - val_loss: 356677792.0000 - val_mean_absolute_error: 15486.9189 - val_mean_squared_error: 356677792.0000\n",
            "Epoch 10/15\n",
            "2927/2927 [==============================] - 6s 2ms/step - loss: 348650720.0000 - mean_absolute_error: 15224.7764 - mean_squared_error: 348650720.0000 - val_loss: 356238144.0000 - val_mean_absolute_error: 15472.8984 - val_mean_squared_error: 356238144.0000\n",
            "Epoch 11/15\n",
            "2927/2927 [==============================] - 6s 2ms/step - loss: 348217632.0000 - mean_absolute_error: 15210.9150 - mean_squared_error: 348217632.0000 - val_loss: 355798784.0000 - val_mean_absolute_error: 15458.9180 - val_mean_squared_error: 355798784.0000\n",
            "Epoch 12/15\n",
            "2927/2927 [==============================] - 6s 2ms/step - loss: 347787680.0000 - mean_absolute_error: 15197.0225 - mean_squared_error: 347787680.0000 - val_loss: 355360128.0000 - val_mean_absolute_error: 15445.1465 - val_mean_squared_error: 355360128.0000\n",
            "Epoch 13/15\n",
            "2927/2927 [==============================] - 6s 2ms/step - loss: 347353440.0000 - mean_absolute_error: 15183.1240 - mean_squared_error: 347353440.0000 - val_loss: 354922368.0000 - val_mean_absolute_error: 15431.3604 - val_mean_squared_error: 354922368.0000\n",
            "Epoch 14/15\n",
            "2927/2927 [==============================] - 6s 2ms/step - loss: 346924288.0000 - mean_absolute_error: 15169.3076 - mean_squared_error: 346924288.0000 - val_loss: 354484864.0000 - val_mean_absolute_error: 15417.4141 - val_mean_squared_error: 354484864.0000\n",
            "Epoch 15/15\n",
            "2927/2927 [==============================] - 7s 2ms/step - loss: 346493760.0000 - mean_absolute_error: 15155.4414 - mean_squared_error: 346493760.0000 - val_loss: 354048576.0000 - val_mean_absolute_error: 15403.4385 - val_mean_squared_error: 354048576.0000\n",
            "Test-MAE: [15350.5947265625, 15336.013671875, 15322.0078125, 15308.0625, 15294.171875, 15280.2578125, 15266.4052734375, 15252.517578125, 15238.6416015625, 15224.7763671875, 15210.9150390625, 15197.0224609375, 15183.1240234375, 15169.3076171875, 15155.44140625]\n",
            "Test-MSE: [352583712.0, 352127424.0, 351687488.0, 351251264.0, 350817760.0, 350383680.0, 349949952.0, 349515712.0, 349083296.0, 348650720.0, 348217632.0, 347787680.0, 347353440.0, 346924288.0, 346493760.0]\n"
          ]
        }
      ]
    },
    {
      "cell_type": "code",
      "source": [
        "model = models.Sequential()\n",
        "\n",
        "model.add(layers.Dense(2, kernel_initializer='uniform',activation = \"selu\"))\n",
        "\n",
        "model.add(layers.Dense(5, kernel_initializer='uniform',activation = \"selu\"))\n",
        "\n",
        "model.add(layers.Dense(1, activation = 'linear'))\n",
        "\n",
        "model.compile(\n",
        " optimizer = \"adam\",\n",
        " loss = \"mean_squared_error\",\n",
        " metrics = [\"mean_absolute_error\", \"mean_squared_error\"]\n",
        ")\n",
        "results = model.fit(\n",
        " X_train, y_train,\n",
        " epochs= 15,\n",
        " batch_size = 1,\n",
        " validation_data = (X_test, y_test)\n",
        ")\n",
        "print(\"Test-MAE:\", results.history[\"mean_absolute_error\"])\n",
        "print(\"Test-MSE:\", results.history[\"mean_squared_error\"])"
      ],
      "metadata": {
        "colab": {
          "base_uri": "https://localhost:8080/"
        },
        "outputId": "a81fe2cb-6f5f-4a5a-c7bc-2e09f03ad444",
        "id": "SrQyELEXULmg"
      },
      "execution_count": null,
      "outputs": [
        {
          "output_type": "stream",
          "name": "stdout",
          "text": [
            "Epoch 1/15\n",
            "2927/2927 [==============================] - 9s 3ms/step - loss: 350984512.0000 - mean_absolute_error: 15298.8945 - mean_squared_error: 350984512.0000 - val_loss: 355473696.0000 - val_mean_absolute_error: 15448.7676 - val_mean_squared_error: 355473696.0000\n",
            "Epoch 2/15\n",
            "2927/2927 [==============================] - 6s 2ms/step - loss: 342059328.0000 - mean_absolute_error: 15012.0420 - mean_squared_error: 342059328.0000 - val_loss: 343116736.0000 - val_mean_absolute_error: 15052.2305 - val_mean_squared_error: 343116736.0000\n",
            "Epoch 3/15\n",
            "2927/2927 [==============================] - 7s 2ms/step - loss: 327558784.0000 - mean_absolute_error: 14532.8770 - mean_squared_error: 327558784.0000 - val_loss: 326133632.0000 - val_mean_absolute_error: 14494.1895 - val_mean_squared_error: 326133632.0000\n",
            "Epoch 4/15\n",
            "2927/2927 [==============================] - 6s 2ms/step - loss: 309066688.0000 - mean_absolute_error: 13923.2910 - mean_squared_error: 309066688.0000 - val_loss: 305668000.0000 - val_mean_absolute_error: 13815.9717 - val_mean_squared_error: 305668000.0000\n",
            "Epoch 5/15\n",
            "2927/2927 [==============================] - 7s 2ms/step - loss: 287673760.0000 - mean_absolute_error: 13217.8848 - mean_squared_error: 287673760.0000 - val_loss: 282812256.0000 - val_mean_absolute_error: 13049.6348 - val_mean_squared_error: 282812256.0000\n",
            "Epoch 6/15\n",
            "2927/2927 [==============================] - 6s 2ms/step - loss: 264517824.0000 - mean_absolute_error: 12470.3438 - mean_squared_error: 264517824.0000 - val_loss: 258610064.0000 - val_mean_absolute_error: 12257.4111 - val_mean_squared_error: 258610064.0000\n",
            "Epoch 7/15\n",
            "2927/2927 [==============================] - 7s 2ms/step - loss: 240863296.0000 - mean_absolute_error: 11726.8115 - mean_squared_error: 240863296.0000 - val_loss: 234547168.0000 - val_mean_absolute_error: 11486.3145 - val_mean_squared_error: 234547168.0000\n",
            "Epoch 8/15\n",
            "2927/2927 [==============================] - 6s 2ms/step - loss: 217793664.0000 - mean_absolute_error: 11018.0400 - mean_squared_error: 217793664.0000 - val_loss: 211594832.0000 - val_mean_absolute_error: 10765.3320 - val_mean_squared_error: 211594832.0000\n",
            "Epoch 9/15\n",
            "2927/2927 [==============================] - 7s 2ms/step - loss: 196275776.0000 - mean_absolute_error: 10387.2754 - mean_squared_error: 196275776.0000 - val_loss: 190602880.0000 - val_mean_absolute_error: 10131.7314 - val_mean_squared_error: 190602880.0000\n",
            "Epoch 10/15\n",
            "2927/2927 [==============================] - 6s 2ms/step - loss: 177317360.0000 - mean_absolute_error: 9851.5127 - mean_squared_error: 177317360.0000 - val_loss: 172365920.0000 - val_mean_absolute_error: 9626.6914 - val_mean_squared_error: 172365920.0000\n",
            "Epoch 11/15\n",
            "2927/2927 [==============================] - 7s 2ms/step - loss: 161196896.0000 - mean_absolute_error: 9427.8477 - mean_squared_error: 161196896.0000 - val_loss: 157361712.0000 - val_mean_absolute_error: 9227.1719 - val_mean_squared_error: 157361712.0000\n",
            "Epoch 12/15\n",
            "2927/2927 [==============================] - 6s 2ms/step - loss: 148327520.0000 - mean_absolute_error: 9129.2900 - mean_squared_error: 148327520.0000 - val_loss: 145577520.0000 - val_mean_absolute_error: 8948.7559 - val_mean_squared_error: 145577520.0000\n",
            "Epoch 13/15\n",
            "2927/2927 [==============================] - 8s 3ms/step - loss: 138540560.0000 - mean_absolute_error: 8926.3369 - mean_squared_error: 138540560.0000 - val_loss: 136793008.0000 - val_mean_absolute_error: 8778.7119 - val_mean_squared_error: 136793008.0000\n",
            "Epoch 14/15\n",
            "2927/2927 [==============================] - 7s 2ms/step - loss: 131421824.0000 - mean_absolute_error: 8782.5723 - mean_squared_error: 131421824.0000 - val_loss: 130328736.0000 - val_mean_absolute_error: 8679.0371 - val_mean_squared_error: 130328736.0000\n",
            "Epoch 15/15\n",
            "2927/2927 [==============================] - 6s 2ms/step - loss: 126380208.0000 - mean_absolute_error: 8707.0273 - mean_squared_error: 126380208.0000 - val_loss: 125850416.0000 - val_mean_absolute_error: 8630.0791 - val_mean_squared_error: 125850416.0000\n",
            "Test-MAE: [15298.89453125, 15012.0419921875, 14532.876953125, 13923.291015625, 13217.884765625, 12470.34375, 11726.8115234375, 11018.0400390625, 10387.275390625, 9851.5126953125, 9427.84765625, 9129.2900390625, 8926.3369140625, 8782.572265625, 8707.02734375]\n",
            "Test-MSE: [350984512.0, 342059328.0, 327558784.0, 309066688.0, 287673760.0, 264517824.0, 240863296.0, 217793664.0, 196275776.0, 177317360.0, 161196896.0, 148327520.0, 138540560.0, 131421824.0, 126380208.0]\n"
          ]
        }
      ]
    },
    {
      "cell_type": "code",
      "source": [
        "model = models.Sequential()\n",
        "\n",
        "model.add(layers.Dense(10, kernel_initializer='uniform',activation = \"selu\"))\n",
        "\n",
        "model.add(layers.Dense(20, kernel_initializer='uniform',activation = \"selu\"))\n",
        "\n",
        "model.add(layers.Dense(5, activation = 'linear'))\n",
        "\n",
        "model.compile(\n",
        " optimizer = \"adam\",\n",
        " loss = \"mean_squared_error\",\n",
        " metrics = [\"mean_absolute_error\", \"mean_squared_error\"]\n",
        ")\n",
        "results = model.fit(\n",
        " X_train, y_train,\n",
        " epochs= 15,\n",
        " batch_size = 1,\n",
        " validation_data = (X_test, y_test)\n",
        ")\n",
        "print(\"Test-MAE:\", results.history[\"mean_absolute_error\"])\n",
        "print(\"Test-MSE:\", results.history[\"mean_squared_error\"])"
      ],
      "metadata": {
        "colab": {
          "base_uri": "https://localhost:8080/"
        },
        "id": "1Fxyj9e5br0C",
        "outputId": "804ee92b-ab84-4380-a148-88971cb711f7"
      },
      "execution_count": null,
      "outputs": [
        {
          "output_type": "stream",
          "name": "stdout",
          "text": [
            "Epoch 1/15\n",
            "2927/2927 [==============================] - 7s 2ms/step - loss: 259017328.0000 - mean_absolute_error: 11919.4561 - mean_squared_error: 259017328.0000 - val_loss: 223906368.0000 - val_mean_absolute_error: 11272.9307 - val_mean_squared_error: 223906368.0000\n",
            "Epoch 2/15\n",
            "2927/2927 [==============================] - 7s 2ms/step - loss: 221647760.0000 - mean_absolute_error: 11119.1846 - mean_squared_error: 221647760.0000 - val_loss: 181257104.0000 - val_mean_absolute_error: 10050.2432 - val_mean_squared_error: 181257104.0000\n",
            "Epoch 3/15\n",
            "2927/2927 [==============================] - 6s 2ms/step - loss: 111479408.0000 - mean_absolute_error: 7831.9131 - mean_squared_error: 111479408.0000 - val_loss: 67145216.0000 - val_mean_absolute_error: 5952.3130 - val_mean_squared_error: 67145216.0000\n",
            "Epoch 4/15\n",
            "2927/2927 [==============================] - 6s 2ms/step - loss: 69726496.0000 - mean_absolute_error: 6125.5552 - mean_squared_error: 69726496.0000 - val_loss: 66188204.0000 - val_mean_absolute_error: 5951.0479 - val_mean_squared_error: 66188204.0000\n",
            "Epoch 5/15\n",
            "2927/2927 [==============================] - 6s 2ms/step - loss: 66938112.0000 - mean_absolute_error: 5998.6729 - mean_squared_error: 66938112.0000 - val_loss: 62517388.0000 - val_mean_absolute_error: 5812.3481 - val_mean_squared_error: 62517388.0000\n",
            "Epoch 6/15\n",
            "2927/2927 [==============================] - 7s 2ms/step - loss: 65071152.0000 - mean_absolute_error: 5906.3647 - mean_squared_error: 65071152.0000 - val_loss: 58570532.0000 - val_mean_absolute_error: 5670.9590 - val_mean_squared_error: 58570532.0000\n",
            "Epoch 7/15\n",
            "2927/2927 [==============================] - 6s 2ms/step - loss: 63569276.0000 - mean_absolute_error: 5795.0815 - mean_squared_error: 63569276.0000 - val_loss: 57003312.0000 - val_mean_absolute_error: 5524.0977 - val_mean_squared_error: 57003312.0000\n",
            "Epoch 8/15\n",
            "2927/2927 [==============================] - 6s 2ms/step - loss: 64342648.0000 - mean_absolute_error: 5826.7734 - mean_squared_error: 64342648.0000 - val_loss: 56391740.0000 - val_mean_absolute_error: 5484.2656 - val_mean_squared_error: 56391740.0000\n",
            "Epoch 9/15\n",
            "2927/2927 [==============================] - 5s 2ms/step - loss: 63593412.0000 - mean_absolute_error: 5789.9897 - mean_squared_error: 63593412.0000 - val_loss: 55330252.0000 - val_mean_absolute_error: 5469.5112 - val_mean_squared_error: 55330252.0000\n",
            "Epoch 10/15\n",
            "2927/2927 [==============================] - 7s 2ms/step - loss: 63842152.0000 - mean_absolute_error: 5766.5376 - mean_squared_error: 63842152.0000 - val_loss: 54328672.0000 - val_mean_absolute_error: 5421.2075 - val_mean_squared_error: 54328672.0000\n",
            "Epoch 11/15\n",
            "2927/2927 [==============================] - 6s 2ms/step - loss: 63394296.0000 - mean_absolute_error: 5738.0347 - mean_squared_error: 63394296.0000 - val_loss: 59430256.0000 - val_mean_absolute_error: 5716.1514 - val_mean_squared_error: 59430256.0000\n",
            "Epoch 12/15\n",
            "2927/2927 [==============================] - 7s 2ms/step - loss: 63010176.0000 - mean_absolute_error: 5750.2959 - mean_squared_error: 63010176.0000 - val_loss: 54373540.0000 - val_mean_absolute_error: 5411.8301 - val_mean_squared_error: 54373540.0000\n",
            "Epoch 13/15\n",
            "2927/2927 [==============================] - 6s 2ms/step - loss: 62938220.0000 - mean_absolute_error: 5701.6689 - mean_squared_error: 62938220.0000 - val_loss: 54761500.0000 - val_mean_absolute_error: 5503.3057 - val_mean_squared_error: 54761500.0000\n",
            "Epoch 14/15\n",
            "2927/2927 [==============================] - 7s 2ms/step - loss: 62482884.0000 - mean_absolute_error: 5690.8257 - mean_squared_error: 62482884.0000 - val_loss: 53577336.0000 - val_mean_absolute_error: 5349.6616 - val_mean_squared_error: 53577336.0000\n",
            "Epoch 15/15\n",
            "2927/2927 [==============================] - 6s 2ms/step - loss: 62222408.0000 - mean_absolute_error: 5659.0918 - mean_squared_error: 62222408.0000 - val_loss: 55507844.0000 - val_mean_absolute_error: 5498.9438 - val_mean_squared_error: 55507844.0000\n",
            "Test-MAE: [11919.4560546875, 11119.1845703125, 7831.9130859375, 6125.55517578125, 5998.6728515625, 5906.36474609375, 5795.08154296875, 5826.7734375, 5789.98974609375, 5766.53759765625, 5738.03466796875, 5750.2958984375, 5701.6689453125, 5690.82568359375, 5659.091796875]\n",
            "Test-MSE: [259017328.0, 221647760.0, 111479408.0, 69726496.0, 66938112.0, 65071152.0, 63569276.0, 64342648.0, 63593412.0, 63842152.0, 63394296.0, 63010176.0, 62938220.0, 62482884.0, 62222408.0]\n"
          ]
        }
      ]
    },
    {
      "cell_type": "code",
      "source": [
        "model = LinearRegression()\n",
        "linReg.fit(X_train, y_train)\n",
        "y_train_pred = linReg.predict(X_train)\n",
        "y_test_pred = linReg.predict(X_test)\n",
        "\n",
        "print('MAE train: {:.3f}, test: {:.3f}'.format(\n",
        "        mean_absolute_error(y_train, y_train_pred),\n",
        "        mean_absolute_error(y_test, y_test_pred)))\n",
        "print('MSE train: {:.3f}, test: {:.3f}'.format(\n",
        "        mean_squared_error(y_train, y_train_pred),\n",
        "        mean_squared_error(y_test, y_test_pred)))"
      ],
      "metadata": {
        "colab": {
          "base_uri": "https://localhost:8080/"
        },
        "id": "-Xp298Sad-rB",
        "outputId": "853fdbe1-3668-44f0-a766-eb7d2822bb5a"
      },
      "execution_count": null,
      "outputs": [
        {
          "output_type": "stream",
          "name": "stdout",
          "text": [
            "MAE train: 4824.250, test: 4608.361\n",
            "MSE train: 48083874.887, test: 42887112.439\n"
          ]
        }
      ]
    },
    {
      "cell_type": "markdown",
      "source": [
        "Изначальные результаты были:\n",
        "```\n",
        "MAE train: 7156.962, test: 7090.500\n",
        "MSE train: 91717656.713, test: 85003456.201\n",
        "```"
      ],
      "metadata": {
        "id": "F2tHdFjxpejk"
      }
    }
  ]
}